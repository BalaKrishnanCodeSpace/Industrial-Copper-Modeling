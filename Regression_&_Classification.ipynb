{
  "cells": [
    {
      "cell_type": "code",
      "execution_count": 2,
      "metadata": {
        "colab": {
          "base_uri": "https://localhost:8080/"
        },
        "id": "yBxouEuXX2lL",
        "outputId": "0a0bd216-75d4-4345-9814-b73471cf0374"
      },
      "outputs": [
        {
          "name": "stdout",
          "output_type": "stream",
          "text": [
            "Collecting imbalanced-learn\n",
            "  Downloading imbalanced_learn-0.12.2-py3-none-any.whl (257 kB)\n",
            "\u001b[2K     \u001b[90m━━━━━━━━━━━━━━━━━━━━━━━━━━━━━━━━━━━━━━━━\u001b[0m \u001b[32m258.0/258.0 kB\u001b[0m \u001b[31m1.8 MB/s\u001b[0m eta \u001b[36m0:00:00\u001b[0m\n",
            "\u001b[?25hRequirement already satisfied: numpy>=1.17.3 in /usr/local/lib/python3.10/dist-packages (from imbalanced-learn) (1.25.2)\n",
            "Requirement already satisfied: scipy>=1.5.0 in /usr/local/lib/python3.10/dist-packages (from imbalanced-learn) (1.11.4)\n",
            "Requirement already satisfied: scikit-learn>=1.0.2 in /usr/local/lib/python3.10/dist-packages (from imbalanced-learn) (1.2.2)\n",
            "Requirement already satisfied: joblib>=1.1.1 in /usr/local/lib/python3.10/dist-packages (from imbalanced-learn) (1.4.0)\n",
            "Requirement already satisfied: threadpoolctl>=2.0.0 in /usr/local/lib/python3.10/dist-packages (from imbalanced-learn) (3.5.0)\n",
            "Installing collected packages: imbalanced-learn\n",
            "Successfully installed imbalanced-learn-0.12.2\n"
          ]
        }
      ],
      "source": [
        "%pip install imbalanced-learn"
      ]
    },
    {
      "cell_type": "code",
      "execution_count": 4,
      "metadata": {
        "colab": {
          "base_uri": "https://localhost:8080/"
        },
        "id": "SLjgtM6baTB9",
        "outputId": "f332c732-9066-4745-c29d-7a568b1f898c"
      },
      "outputs": [
        {
          "name": "stdout",
          "output_type": "stream",
          "text": [
            "Requirement already satisfied: pandas in /usr/local/lib/python3.10/dist-packages (2.0.3)\n",
            "Requirement already satisfied: imbalanced-learn in /usr/local/lib/python3.10/dist-packages (0.12.2)\n",
            "Requirement already satisfied: scikit-learn in /usr/local/lib/python3.10/dist-packages (1.2.2)\n",
            "Collecting xgboost\n",
            "  Downloading xgboost-2.0.3-py3-none-manylinux2014_x86_64.whl (297.1 MB)\n",
            "\u001b[2K     \u001b[90m━━━━━━━━━━━━━━━━━━━━━━━━━━━━━━━━━━━━━━━━\u001b[0m \u001b[32m297.1/297.1 MB\u001b[0m \u001b[31m3.0 MB/s\u001b[0m eta \u001b[36m0:00:00\u001b[0m\n",
            "\u001b[?25hRequirement already satisfied: matplotlib in /usr/local/lib/python3.10/dist-packages (3.7.1)\n",
            "Requirement already satisfied: python-dateutil>=2.8.2 in /usr/local/lib/python3.10/dist-packages (from pandas) (2.9.0.post0)\n",
            "Requirement already satisfied: pytz>=2020.1 in /usr/local/lib/python3.10/dist-packages (from pandas) (2024.1)\n",
            "Requirement already satisfied: tzdata>=2022.1 in /usr/local/lib/python3.10/dist-packages (from pandas) (2024.1)\n",
            "Requirement already satisfied: numpy>=1.21.0 in /usr/local/lib/python3.10/dist-packages (from pandas) (1.25.2)\n",
            "Requirement already satisfied: scipy>=1.5.0 in /usr/local/lib/python3.10/dist-packages (from imbalanced-learn) (1.11.4)\n",
            "Requirement already satisfied: joblib>=1.1.1 in /usr/local/lib/python3.10/dist-packages (from imbalanced-learn) (1.4.0)\n",
            "Requirement already satisfied: threadpoolctl>=2.0.0 in /usr/local/lib/python3.10/dist-packages (from imbalanced-learn) (3.5.0)\n",
            "Requirement already satisfied: contourpy>=1.0.1 in /usr/local/lib/python3.10/dist-packages (from matplotlib) (1.2.1)\n",
            "Requirement already satisfied: cycler>=0.10 in /usr/local/lib/python3.10/dist-packages (from matplotlib) (0.12.1)\n",
            "Requirement already satisfied: fonttools>=4.22.0 in /usr/local/lib/python3.10/dist-packages (from matplotlib) (4.51.0)\n",
            "Requirement already satisfied: kiwisolver>=1.0.1 in /usr/local/lib/python3.10/dist-packages (from matplotlib) (1.4.5)\n",
            "Requirement already satisfied: packaging>=20.0 in /usr/local/lib/python3.10/dist-packages (from matplotlib) (24.0)\n",
            "Requirement already satisfied: pillow>=6.2.0 in /usr/local/lib/python3.10/dist-packages (from matplotlib) (10.3.0)\n",
            "Requirement already satisfied: pyparsing>=2.3.1 in /usr/local/lib/python3.10/dist-packages (from matplotlib) (3.1.2)\n",
            "Requirement already satisfied: six>=1.5 in /usr/local/lib/python3.10/dist-packages (from python-dateutil>=2.8.2->pandas) (1.16.0)\n",
            "Installing collected packages: xgboost\n",
            "Successfully installed xgboost-2.0.3\n"
          ]
        }
      ],
      "source": [
        "%pip install pandas imbalanced-learn scikit-learn xgboost matplotlib"
      ]
    },
    {
      "cell_type": "code",
      "execution_count": 3,
      "metadata": {
        "id": "bAHR2UPZYFjj"
      },
      "outputs": [],
      "source": [
        "import pandas as pd\n",
        "from imblearn.combine import SMOTETomek\n",
        "from sklearn.preprocessing import OrdinalEncoder\n",
        "from sklearn.model_selection import train_test_split, GridSearchCV\n",
        "from sklearn import metrics\n",
        "from sklearn.tree import DecisionTreeClassifier\n",
        "from sklearn.ensemble import ExtraTreesClassifier\n",
        "from sklearn.ensemble import RandomForestClassifier\n",
        "from sklearn.ensemble import AdaBoostClassifier\n",
        "from sklearn.ensemble import GradientBoostingClassifier\n",
        "from xgboost import XGBClassifier\n",
        "from sklearn.metrics import confusion_matrix, classification_report, roc_curve, auc\n",
        "import matplotlib.pyplot as plt\n",
        "import pickle"
      ]
    },
    {
      "cell_type": "code",
      "execution_count": 4,
      "metadata": {
        "colab": {
          "base_uri": "https://localhost:8080/"
        },
        "id": "FyQuiMYrbNSA",
        "outputId": "23764f79-4667-48bf-b636-cc94895015ca"
      },
      "outputs": [
        {
          "name": "stdout",
          "output_type": "stream",
          "text": [
            "Requirement already satisfied: openpyxl in /usr/local/lib/python3.10/dist-packages (3.1.2)\n",
            "Requirement already satisfied: et-xmlfile in /usr/local/lib/python3.10/dist-packages (from openpyxl) (1.1.0)\n"
          ]
        }
      ],
      "source": [
        "pip install openpyxl\n"
      ]
    },
    {
      "cell_type": "code",
      "execution_count": 5,
      "metadata": {
        "id": "gDTBQhY0YIBn"
      },
      "outputs": [],
      "source": [
        "df = pd.read_excel(\"/content/Copper_Modelling_-_Cleaned_Dataset.xlsx\")"
      ]
    },
    {
      "cell_type": "code",
      "execution_count": 9,
      "metadata": {
        "colab": {
          "base_uri": "https://localhost:8080/",
          "height": 255
        },
        "id": "Mz0yActGYSTR",
        "outputId": "1e353905-eac6-484f-e2e5-42c41054ad07"
      },
      "outputs": [
        {
          "data": {
            "application/vnd.google.colaboratory.intrinsic+json": {
              "type": "dataframe",
              "variable_name": "df"
            },
            "text/html": [
              "\n",
              "  <div id=\"df-ba433621-72f0-4fca-b7c5-4ca1ef43a5a9\" class=\"colab-df-container\">\n",
              "    <div>\n",
              "<style scoped>\n",
              "    .dataframe tbody tr th:only-of-type {\n",
              "        vertical-align: middle;\n",
              "    }\n",
              "\n",
              "    .dataframe tbody tr th {\n",
              "        vertical-align: top;\n",
              "    }\n",
              "\n",
              "    .dataframe thead th {\n",
              "        text-align: right;\n",
              "    }\n",
              "</style>\n",
              "<table border=\"1\" class=\"dataframe\">\n",
              "  <thead>\n",
              "    <tr style=\"text-align: right;\">\n",
              "      <th></th>\n",
              "      <th>quantity_tons</th>\n",
              "      <th>customer</th>\n",
              "      <th>country</th>\n",
              "      <th>status</th>\n",
              "      <th>application</th>\n",
              "      <th>thickness</th>\n",
              "      <th>width</th>\n",
              "      <th>product_ref</th>\n",
              "      <th>selling_price</th>\n",
              "      <th>item_type_IPL</th>\n",
              "      <th>...</th>\n",
              "      <th>item_type_S</th>\n",
              "      <th>item_type_SLAWR</th>\n",
              "      <th>item_type_W</th>\n",
              "      <th>item_type_WI</th>\n",
              "      <th>item_date_day</th>\n",
              "      <th>item_date_month</th>\n",
              "      <th>item_date_year</th>\n",
              "      <th>delivery_date_day</th>\n",
              "      <th>delivery_date_month</th>\n",
              "      <th>delivery_date_year</th>\n",
              "    </tr>\n",
              "  </thead>\n",
              "  <tbody>\n",
              "    <tr>\n",
              "      <th>0</th>\n",
              "      <td>4.010077</td>\n",
              "      <td>30156308</td>\n",
              "      <td>28</td>\n",
              "      <td>1</td>\n",
              "      <td>10</td>\n",
              "      <td>1.098612</td>\n",
              "      <td>1500.0</td>\n",
              "      <td>21.236568</td>\n",
              "      <td>6.751101</td>\n",
              "      <td>False</td>\n",
              "      <td>...</td>\n",
              "      <td>False</td>\n",
              "      <td>False</td>\n",
              "      <td>True</td>\n",
              "      <td>False</td>\n",
              "      <td>1</td>\n",
              "      <td>4</td>\n",
              "      <td>2021</td>\n",
              "      <td>1</td>\n",
              "      <td>7</td>\n",
              "      <td>2021</td>\n",
              "    </tr>\n",
              "    <tr>\n",
              "      <th>1</th>\n",
              "      <td>6.645123</td>\n",
              "      <td>30202938</td>\n",
              "      <td>25</td>\n",
              "      <td>1</td>\n",
              "      <td>41</td>\n",
              "      <td>0.587787</td>\n",
              "      <td>1210.0</td>\n",
              "      <td>21.235312</td>\n",
              "      <td>6.954639</td>\n",
              "      <td>False</td>\n",
              "      <td>...</td>\n",
              "      <td>False</td>\n",
              "      <td>False</td>\n",
              "      <td>True</td>\n",
              "      <td>False</td>\n",
              "      <td>1</td>\n",
              "      <td>4</td>\n",
              "      <td>2021</td>\n",
              "      <td>1</td>\n",
              "      <td>4</td>\n",
              "      <td>2021</td>\n",
              "    </tr>\n",
              "    <tr>\n",
              "      <th>2</th>\n",
              "      <td>5.424027</td>\n",
              "      <td>30202938</td>\n",
              "      <td>25</td>\n",
              "      <td>1</td>\n",
              "      <td>41</td>\n",
              "      <td>0.916291</td>\n",
              "      <td>1265.0</td>\n",
              "      <td>21.235312</td>\n",
              "      <td>6.891626</td>\n",
              "      <td>False</td>\n",
              "      <td>...</td>\n",
              "      <td>False</td>\n",
              "      <td>False</td>\n",
              "      <td>True</td>\n",
              "      <td>False</td>\n",
              "      <td>1</td>\n",
              "      <td>4</td>\n",
              "      <td>2021</td>\n",
              "      <td>1</td>\n",
              "      <td>4</td>\n",
              "      <td>2021</td>\n",
              "    </tr>\n",
              "    <tr>\n",
              "      <th>3</th>\n",
              "      <td>4.249521</td>\n",
              "      <td>30341428</td>\n",
              "      <td>38</td>\n",
              "      <td>1</td>\n",
              "      <td>10</td>\n",
              "      <td>0.470004</td>\n",
              "      <td>1275.0</td>\n",
              "      <td>21.235312</td>\n",
              "      <td>7.218177</td>\n",
              "      <td>False</td>\n",
              "      <td>...</td>\n",
              "      <td>True</td>\n",
              "      <td>False</td>\n",
              "      <td>False</td>\n",
              "      <td>False</td>\n",
              "      <td>1</td>\n",
              "      <td>4</td>\n",
              "      <td>2021</td>\n",
              "      <td>1</td>\n",
              "      <td>7</td>\n",
              "      <td>2021</td>\n",
              "    </tr>\n",
              "    <tr>\n",
              "      <th>4</th>\n",
              "      <td>6.448299</td>\n",
              "      <td>30202938</td>\n",
              "      <td>25</td>\n",
              "      <td>1</td>\n",
              "      <td>41</td>\n",
              "      <td>0.916291</td>\n",
              "      <td>1165.0</td>\n",
              "      <td>21.235312</td>\n",
              "      <td>6.891626</td>\n",
              "      <td>False</td>\n",
              "      <td>...</td>\n",
              "      <td>False</td>\n",
              "      <td>False</td>\n",
              "      <td>True</td>\n",
              "      <td>False</td>\n",
              "      <td>1</td>\n",
              "      <td>4</td>\n",
              "      <td>2021</td>\n",
              "      <td>1</td>\n",
              "      <td>4</td>\n",
              "      <td>2021</td>\n",
              "    </tr>\n",
              "  </tbody>\n",
              "</table>\n",
              "<p>5 rows × 22 columns</p>\n",
              "</div>\n",
              "    <div class=\"colab-df-buttons\">\n",
              "\n",
              "  <div class=\"colab-df-container\">\n",
              "    <button class=\"colab-df-convert\" onclick=\"convertToInteractive('df-ba433621-72f0-4fca-b7c5-4ca1ef43a5a9')\"\n",
              "            title=\"Convert this dataframe to an interactive table.\"\n",
              "            style=\"display:none;\">\n",
              "\n",
              "  <svg xmlns=\"http://www.w3.org/2000/svg\" height=\"24px\" viewBox=\"0 -960 960 960\">\n",
              "    <path d=\"M120-120v-720h720v720H120Zm60-500h600v-160H180v160Zm220 220h160v-160H400v160Zm0 220h160v-160H400v160ZM180-400h160v-160H180v160Zm440 0h160v-160H620v160ZM180-180h160v-160H180v160Zm440 0h160v-160H620v160Z\"/>\n",
              "  </svg>\n",
              "    </button>\n",
              "\n",
              "  <style>\n",
              "    .colab-df-container {\n",
              "      display:flex;\n",
              "      gap: 12px;\n",
              "    }\n",
              "\n",
              "    .colab-df-convert {\n",
              "      background-color: #E8F0FE;\n",
              "      border: none;\n",
              "      border-radius: 50%;\n",
              "      cursor: pointer;\n",
              "      display: none;\n",
              "      fill: #1967D2;\n",
              "      height: 32px;\n",
              "      padding: 0 0 0 0;\n",
              "      width: 32px;\n",
              "    }\n",
              "\n",
              "    .colab-df-convert:hover {\n",
              "      background-color: #E2EBFA;\n",
              "      box-shadow: 0px 1px 2px rgba(60, 64, 67, 0.3), 0px 1px 3px 1px rgba(60, 64, 67, 0.15);\n",
              "      fill: #174EA6;\n",
              "    }\n",
              "\n",
              "    .colab-df-buttons div {\n",
              "      margin-bottom: 4px;\n",
              "    }\n",
              "\n",
              "    [theme=dark] .colab-df-convert {\n",
              "      background-color: #3B4455;\n",
              "      fill: #D2E3FC;\n",
              "    }\n",
              "\n",
              "    [theme=dark] .colab-df-convert:hover {\n",
              "      background-color: #434B5C;\n",
              "      box-shadow: 0px 1px 3px 1px rgba(0, 0, 0, 0.15);\n",
              "      filter: drop-shadow(0px 1px 2px rgba(0, 0, 0, 0.3));\n",
              "      fill: #FFFFFF;\n",
              "    }\n",
              "  </style>\n",
              "\n",
              "    <script>\n",
              "      const buttonEl =\n",
              "        document.querySelector('#df-ba433621-72f0-4fca-b7c5-4ca1ef43a5a9 button.colab-df-convert');\n",
              "      buttonEl.style.display =\n",
              "        google.colab.kernel.accessAllowed ? 'block' : 'none';\n",
              "\n",
              "      async function convertToInteractive(key) {\n",
              "        const element = document.querySelector('#df-ba433621-72f0-4fca-b7c5-4ca1ef43a5a9');\n",
              "        const dataTable =\n",
              "          await google.colab.kernel.invokeFunction('convertToInteractive',\n",
              "                                                    [key], {});\n",
              "        if (!dataTable) return;\n",
              "\n",
              "        const docLinkHtml = 'Like what you see? Visit the ' +\n",
              "          '<a target=\"_blank\" href=https://colab.research.google.com/notebooks/data_table.ipynb>data table notebook</a>'\n",
              "          + ' to learn more about interactive tables.';\n",
              "        element.innerHTML = '';\n",
              "        dataTable['output_type'] = 'display_data';\n",
              "        await google.colab.output.renderOutput(dataTable, element);\n",
              "        const docLink = document.createElement('div');\n",
              "        docLink.innerHTML = docLinkHtml;\n",
              "        element.appendChild(docLink);\n",
              "      }\n",
              "    </script>\n",
              "  </div>\n",
              "\n",
              "\n",
              "<div id=\"df-079bccd9-365b-40df-b757-61df668af00d\">\n",
              "  <button class=\"colab-df-quickchart\" onclick=\"quickchart('df-079bccd9-365b-40df-b757-61df668af00d')\"\n",
              "            title=\"Suggest charts\"\n",
              "            style=\"display:none;\">\n",
              "\n",
              "<svg xmlns=\"http://www.w3.org/2000/svg\" height=\"24px\"viewBox=\"0 0 24 24\"\n",
              "     width=\"24px\">\n",
              "    <g>\n",
              "        <path d=\"M19 3H5c-1.1 0-2 .9-2 2v14c0 1.1.9 2 2 2h14c1.1 0 2-.9 2-2V5c0-1.1-.9-2-2-2zM9 17H7v-7h2v7zm4 0h-2V7h2v10zm4 0h-2v-4h2v4z\"/>\n",
              "    </g>\n",
              "</svg>\n",
              "  </button>\n",
              "\n",
              "<style>\n",
              "  .colab-df-quickchart {\n",
              "      --bg-color: #E8F0FE;\n",
              "      --fill-color: #1967D2;\n",
              "      --hover-bg-color: #E2EBFA;\n",
              "      --hover-fill-color: #174EA6;\n",
              "      --disabled-fill-color: #AAA;\n",
              "      --disabled-bg-color: #DDD;\n",
              "  }\n",
              "\n",
              "  [theme=dark] .colab-df-quickchart {\n",
              "      --bg-color: #3B4455;\n",
              "      --fill-color: #D2E3FC;\n",
              "      --hover-bg-color: #434B5C;\n",
              "      --hover-fill-color: #FFFFFF;\n",
              "      --disabled-bg-color: #3B4455;\n",
              "      --disabled-fill-color: #666;\n",
              "  }\n",
              "\n",
              "  .colab-df-quickchart {\n",
              "    background-color: var(--bg-color);\n",
              "    border: none;\n",
              "    border-radius: 50%;\n",
              "    cursor: pointer;\n",
              "    display: none;\n",
              "    fill: var(--fill-color);\n",
              "    height: 32px;\n",
              "    padding: 0;\n",
              "    width: 32px;\n",
              "  }\n",
              "\n",
              "  .colab-df-quickchart:hover {\n",
              "    background-color: var(--hover-bg-color);\n",
              "    box-shadow: 0 1px 2px rgba(60, 64, 67, 0.3), 0 1px 3px 1px rgba(60, 64, 67, 0.15);\n",
              "    fill: var(--button-hover-fill-color);\n",
              "  }\n",
              "\n",
              "  .colab-df-quickchart-complete:disabled,\n",
              "  .colab-df-quickchart-complete:disabled:hover {\n",
              "    background-color: var(--disabled-bg-color);\n",
              "    fill: var(--disabled-fill-color);\n",
              "    box-shadow: none;\n",
              "  }\n",
              "\n",
              "  .colab-df-spinner {\n",
              "    border: 2px solid var(--fill-color);\n",
              "    border-color: transparent;\n",
              "    border-bottom-color: var(--fill-color);\n",
              "    animation:\n",
              "      spin 1s steps(1) infinite;\n",
              "  }\n",
              "\n",
              "  @keyframes spin {\n",
              "    0% {\n",
              "      border-color: transparent;\n",
              "      border-bottom-color: var(--fill-color);\n",
              "      border-left-color: var(--fill-color);\n",
              "    }\n",
              "    20% {\n",
              "      border-color: transparent;\n",
              "      border-left-color: var(--fill-color);\n",
              "      border-top-color: var(--fill-color);\n",
              "    }\n",
              "    30% {\n",
              "      border-color: transparent;\n",
              "      border-left-color: var(--fill-color);\n",
              "      border-top-color: var(--fill-color);\n",
              "      border-right-color: var(--fill-color);\n",
              "    }\n",
              "    40% {\n",
              "      border-color: transparent;\n",
              "      border-right-color: var(--fill-color);\n",
              "      border-top-color: var(--fill-color);\n",
              "    }\n",
              "    60% {\n",
              "      border-color: transparent;\n",
              "      border-right-color: var(--fill-color);\n",
              "    }\n",
              "    80% {\n",
              "      border-color: transparent;\n",
              "      border-right-color: var(--fill-color);\n",
              "      border-bottom-color: var(--fill-color);\n",
              "    }\n",
              "    90% {\n",
              "      border-color: transparent;\n",
              "      border-bottom-color: var(--fill-color);\n",
              "    }\n",
              "  }\n",
              "</style>\n",
              "\n",
              "  <script>\n",
              "    async function quickchart(key) {\n",
              "      const quickchartButtonEl =\n",
              "        document.querySelector('#' + key + ' button');\n",
              "      quickchartButtonEl.disabled = true;  // To prevent multiple clicks.\n",
              "      quickchartButtonEl.classList.add('colab-df-spinner');\n",
              "      try {\n",
              "        const charts = await google.colab.kernel.invokeFunction(\n",
              "            'suggestCharts', [key], {});\n",
              "      } catch (error) {\n",
              "        console.error('Error during call to suggestCharts:', error);\n",
              "      }\n",
              "      quickchartButtonEl.classList.remove('colab-df-spinner');\n",
              "      quickchartButtonEl.classList.add('colab-df-quickchart-complete');\n",
              "    }\n",
              "    (() => {\n",
              "      let quickchartButtonEl =\n",
              "        document.querySelector('#df-079bccd9-365b-40df-b757-61df668af00d button');\n",
              "      quickchartButtonEl.style.display =\n",
              "        google.colab.kernel.accessAllowed ? 'block' : 'none';\n",
              "    })();\n",
              "  </script>\n",
              "</div>\n",
              "\n",
              "    </div>\n",
              "  </div>\n"
            ],
            "text/plain": [
              "   quantity_tons  customer  country  status  application  thickness   width  \\\n",
              "0       4.010077  30156308       28       1           10   1.098612  1500.0   \n",
              "1       6.645123  30202938       25       1           41   0.587787  1210.0   \n",
              "2       5.424027  30202938       25       1           41   0.916291  1265.0   \n",
              "3       4.249521  30341428       38       1           10   0.470004  1275.0   \n",
              "4       6.448299  30202938       25       1           41   0.916291  1165.0   \n",
              "\n",
              "   product_ref  selling_price  item_type_IPL  ...  item_type_S  \\\n",
              "0    21.236568       6.751101          False  ...        False   \n",
              "1    21.235312       6.954639          False  ...        False   \n",
              "2    21.235312       6.891626          False  ...        False   \n",
              "3    21.235312       7.218177          False  ...         True   \n",
              "4    21.235312       6.891626          False  ...        False   \n",
              "\n",
              "   item_type_SLAWR  item_type_W  item_type_WI  item_date_day  item_date_month  \\\n",
              "0            False         True         False              1                4   \n",
              "1            False         True         False              1                4   \n",
              "2            False         True         False              1                4   \n",
              "3            False        False         False              1                4   \n",
              "4            False         True         False              1                4   \n",
              "\n",
              "   item_date_year  delivery_date_day  delivery_date_month  delivery_date_year  \n",
              "0            2021                  1                    7                2021  \n",
              "1            2021                  1                    4                2021  \n",
              "2            2021                  1                    4                2021  \n",
              "3            2021                  1                    7                2021  \n",
              "4            2021                  1                    4                2021  \n",
              "\n",
              "[5 rows x 22 columns]"
            ]
          },
          "execution_count": 9,
          "metadata": {},
          "output_type": "execute_result"
        }
      ],
      "source": [
        "df.head()"
      ]
    },
    {
      "cell_type": "code",
      "execution_count": 6,
      "metadata": {
        "colab": {
          "base_uri": "https://localhost:8080/"
        },
        "id": "_I1IDLfHYTxK",
        "outputId": "1083b698-ac7f-4855-c751-fc6522f5054c"
      },
      "outputs": [
        {
          "data": {
            "text/plain": [
              "quantity_tons          float64\n",
              "customer                 int64\n",
              "country                  int64\n",
              "status                   int64\n",
              "application              int64\n",
              "thickness              float64\n",
              "width                  float64\n",
              "product_ref            float64\n",
              "selling_price          float64\n",
              "item_type_IPL             bool\n",
              "item_type_Others          bool\n",
              "item_type_PL              bool\n",
              "item_type_S               bool\n",
              "item_type_SLAWR           bool\n",
              "item_type_W               bool\n",
              "item_type_WI              bool\n",
              "item_date_day            int64\n",
              "item_date_month          int64\n",
              "item_date_year           int64\n",
              "delivery_date_day        int64\n",
              "delivery_date_month      int64\n",
              "delivery_date_year       int64\n",
              "dtype: object"
            ]
          },
          "execution_count": 6,
          "metadata": {},
          "output_type": "execute_result"
        }
      ],
      "source": [
        "df.dtypes"
      ]
    },
    {
      "cell_type": "code",
      "execution_count": 7,
      "metadata": {
        "id": "2HHFeiehYWEb"
      },
      "outputs": [],
      "source": [
        "df_1 = df.copy()"
      ]
    },
    {
      "cell_type": "code",
      "execution_count": 8,
      "metadata": {
        "colab": {
          "base_uri": "https://localhost:8080/"
        },
        "id": "kAlfqaDEYYI1",
        "outputId": "14b6d43c-897b-42be-c537-6f0cf5459462"
      },
      "outputs": [
        {
          "data": {
            "text/plain": [
              "status\n",
              "1    116010\n",
              "0     34438\n",
              "Name: count, dtype: int64"
            ]
          },
          "execution_count": 8,
          "metadata": {},
          "output_type": "execute_result"
        }
      ],
      "source": [
        "df_1['status'].value_counts()"
      ]
    },
    {
      "cell_type": "code",
      "execution_count": 9,
      "metadata": {
        "id": "RuTI8HT6cYFO"
      },
      "outputs": [],
      "source": [
        "import os\n",
        "os.environ[\"OPENBLAS_NUM_THREADS\"] = \"1\"\n"
      ]
    },
    {
      "cell_type": "code",
      "execution_count": 10,
      "metadata": {
        "id": "BT1DwYGtYZ42"
      },
      "outputs": [],
      "source": [
        "x = df_1.drop('status', axis = 1)\n",
        "y = df_1['status']\n",
        "\n",
        "x_new, y_new = SMOTETomek().fit_resample(x,y)"
      ]
    },
    {
      "cell_type": "code",
      "execution_count": 11,
      "metadata": {
        "colab": {
          "base_uri": "https://localhost:8080/"
        },
        "id": "9zOzGv7wYbv8",
        "outputId": "d1c53f80-2dce-4b89-ce27-b48c14523f91"
      },
      "outputs": [
        {
          "data": {
            "text/plain": [
              "((150448, 21), (150448,), (230312, 21), (230312,))"
            ]
          },
          "execution_count": 11,
          "metadata": {},
          "output_type": "execute_result"
        }
      ],
      "source": [
        "x.shape, y.shape, x_new.shape, y_new.shape"
      ]
    },
    {
      "cell_type": "code",
      "execution_count": 12,
      "metadata": {
        "id": "q2v7X73xYeis"
      },
      "outputs": [],
      "source": [
        "# check the accuracy of training and testing using metrics\n",
        "# algorithm.__name__  - it return the algorithm name\n",
        "\n",
        "def machine_learning_classification(x_new,y_new, algorithm):\n",
        "\n",
        "    x_train, x_test, y_train, y_test = train_test_split(x_new, y_new, test_size=0.2, random_state=42)\n",
        "    model = algorithm().fit(x_train, y_train)\n",
        "\n",
        "    y_pred_train = model.predict(x_train)\n",
        "    y_pred_test = model.predict(x_test)\n",
        "\n",
        "    accuracy_train = metrics.accuracy_score(y_train, y_pred_train)\n",
        "    accuracy_test = metrics.accuracy_score(y_test, y_pred_test)\n",
        "\n",
        "    # algo = str(algorithm).split(\"'\")[1].split(\".\")[-1]\n",
        "    accuracy_metrics = {'algorithm'    : algorithm.__name__,\n",
        "                        'accuracy_train': accuracy_train,\n",
        "                        'accuracy_test' : accuracy_test}\n",
        "\n",
        "    return accuracy_metrics"
      ]
    },
    {
      "cell_type": "code",
      "execution_count": 13,
      "metadata": {
        "colab": {
          "base_uri": "https://localhost:8080/"
        },
        "id": "qj2alNFDYiL7",
        "outputId": "3daa8ddc-56c3-4908-9d79-5f16c372172a"
      },
      "outputs": [
        {
          "name": "stdout",
          "output_type": "stream",
          "text": [
            "Before Over Sampling:  {'algorithm': 'DecisionTreeClassifier', 'accuracy_train': 1.0, 'accuracy_test': 0.9505483549351944}\n",
            "After Over Sampling:  {'algorithm': 'DecisionTreeClassifier', 'accuracy_train': 1.0, 'accuracy_test': 0.9661767579185029}\n",
            "\n",
            "Before Over Sampling:  {'algorithm': 'ExtraTreesClassifier', 'accuracy_train': 1.0, 'accuracy_test': 0.9742439348620804}\n",
            "After Over Sampling:  {'algorithm': 'ExtraTreesClassifier', 'accuracy_train': 1.0, 'accuracy_test': 0.9848685495951197}\n",
            "\n",
            "Before Over Sampling:  {'algorithm': 'RandomForestClassifier', 'accuracy_train': 1.0, 'accuracy_test': 0.9707876370887338}\n",
            "After Over Sampling:  {'algorithm': 'RandomForestClassifier', 'accuracy_train': 0.9999945725621306, 'accuracy_test': 0.9831100883572499}\n",
            "\n",
            "Before Over Sampling:  {'algorithm': 'AdaBoostClassifier', 'accuracy_train': 0.8127253693148773, 'accuracy_test': 0.8142572283150549}\n",
            "After Over Sampling:  {'algorithm': 'AdaBoostClassifier', 'accuracy_train': 0.771814229656606, 'accuracy_test': 0.7720730304148666}\n",
            "\n",
            "Before Over Sampling:  {'algorithm': 'GradientBoostingClassifier', 'accuracy_train': 0.8364379600857442, 'accuracy_test': 0.8352608840146228}\n",
            "After Over Sampling:  {'algorithm': 'GradientBoostingClassifier', 'accuracy_train': 0.8236571161851625, 'accuracy_test': 0.8253261837049258}\n",
            "\n",
            "Before Over Sampling:  {'algorithm': 'XGBClassifier', 'accuracy_train': 0.9463351002841522, 'accuracy_test': 0.9336324360252576}\n",
            "After Over Sampling:  {'algorithm': 'XGBClassifier', 'accuracy_train': 0.9541598597550055, 'accuracy_test': 0.9489394959077785}\n",
            "\n"
          ]
        }
      ],
      "source": [
        "algorithms = [DecisionTreeClassifier, ExtraTreesClassifier, RandomForestClassifier, AdaBoostClassifier, GradientBoostingClassifier, XGBClassifier]\n",
        "\n",
        "for algorithm in algorithms:\n",
        "  print(\"Before Over Sampling: \", machine_learning_classification(x, y, algorithm))\n",
        "  print(\"After Over Sampling: \", machine_learning_classification(x_new, y_new, algorithm))\n",
        "  print(\"\")"
      ]
    },
    {
      "cell_type": "code",
      "execution_count": null,
      "metadata": {
        "id": "KUlkwHm1Yjtm"
      },
      "outputs": [],
      "source": [
        "# we got good accuracy after oversampling\n",
        "# ExtraTreesClassifier and RandomForestClassifier both have good testing accuracy, but in training accuracy is overfitting.\n",
        "# RandomForestClassifier is good interpretability, so i select the algorithm"
      ]
    },
    {
      "cell_type": "code",
      "execution_count": null,
      "metadata": {
        "id": "kgti6NvMYl9z"
      },
      "outputs": [],
      "source": [
        "# GridsearchCV is a cross validation function.\n",
        "\n",
        "# Hyper parameter tuning - we give parameter values manually in the algorithm to reduce the overfitting issue and get better accuracy.\n",
        "\n",
        "# so using gridserachcv method - to pass the mulitiple values in each parameters and it try to evaluate all the combination of values and\n",
        "# finally return the best accuracy parameter values based on the score.\n",
        "\n",
        "# example: {'max_depth': 20, 'max_features': 'sqrt', 'min_samples_leaf': 1, 'min_samples_split': 2}\n",
        "\n",
        "# note: This process can take long time (avg: 1 hour 15 mins). Please wait be patient."
      ]
    },
    {
      "cell_type": "code",
      "execution_count": null,
      "metadata": {
        "id": "IXCWtdZtYpPR"
      },
      "outputs": [],
      "source": [
        "# refer parameter values: https://scikit-learn.org/stable/modules/generated/sklearn.ensemble.RandomForestClassifier.html"
      ]
    },
    {
      "cell_type": "code",
      "execution_count": 14,
      "metadata": {
        "colab": {
          "base_uri": "https://localhost:8080/",
          "height": 255
        },
        "id": "U4nQhsJnYqqF",
        "outputId": "7a20deca-3dc9-402e-a216-2251b9205068"
      },
      "outputs": [
        {
          "data": {
            "text/html": [
              "<style>#sk-container-id-1 {color: black;background-color: white;}#sk-container-id-1 pre{padding: 0;}#sk-container-id-1 div.sk-toggleable {background-color: white;}#sk-container-id-1 label.sk-toggleable__label {cursor: pointer;display: block;width: 100%;margin-bottom: 0;padding: 0.3em;box-sizing: border-box;text-align: center;}#sk-container-id-1 label.sk-toggleable__label-arrow:before {content: \"▸\";float: left;margin-right: 0.25em;color: #696969;}#sk-container-id-1 label.sk-toggleable__label-arrow:hover:before {color: black;}#sk-container-id-1 div.sk-estimator:hover label.sk-toggleable__label-arrow:before {color: black;}#sk-container-id-1 div.sk-toggleable__content {max-height: 0;max-width: 0;overflow: hidden;text-align: left;background-color: #f0f8ff;}#sk-container-id-1 div.sk-toggleable__content pre {margin: 0.2em;color: black;border-radius: 0.25em;background-color: #f0f8ff;}#sk-container-id-1 input.sk-toggleable__control:checked~div.sk-toggleable__content {max-height: 200px;max-width: 100%;overflow: auto;}#sk-container-id-1 input.sk-toggleable__control:checked~label.sk-toggleable__label-arrow:before {content: \"▾\";}#sk-container-id-1 div.sk-estimator input.sk-toggleable__control:checked~label.sk-toggleable__label {background-color: #d4ebff;}#sk-container-id-1 div.sk-label input.sk-toggleable__control:checked~label.sk-toggleable__label {background-color: #d4ebff;}#sk-container-id-1 input.sk-hidden--visually {border: 0;clip: rect(1px 1px 1px 1px);clip: rect(1px, 1px, 1px, 1px);height: 1px;margin: -1px;overflow: hidden;padding: 0;position: absolute;width: 1px;}#sk-container-id-1 div.sk-estimator {font-family: monospace;background-color: #f0f8ff;border: 1px dotted black;border-radius: 0.25em;box-sizing: border-box;margin-bottom: 0.5em;}#sk-container-id-1 div.sk-estimator:hover {background-color: #d4ebff;}#sk-container-id-1 div.sk-parallel-item::after {content: \"\";width: 100%;border-bottom: 1px solid gray;flex-grow: 1;}#sk-container-id-1 div.sk-label:hover label.sk-toggleable__label {background-color: #d4ebff;}#sk-container-id-1 div.sk-serial::before {content: \"\";position: absolute;border-left: 1px solid gray;box-sizing: border-box;top: 0;bottom: 0;left: 50%;z-index: 0;}#sk-container-id-1 div.sk-serial {display: flex;flex-direction: column;align-items: center;background-color: white;padding-right: 0.2em;padding-left: 0.2em;position: relative;}#sk-container-id-1 div.sk-item {position: relative;z-index: 1;}#sk-container-id-1 div.sk-parallel {display: flex;align-items: stretch;justify-content: center;background-color: white;position: relative;}#sk-container-id-1 div.sk-item::before, #sk-container-id-1 div.sk-parallel-item::before {content: \"\";position: absolute;border-left: 1px solid gray;box-sizing: border-box;top: 0;bottom: 0;left: 50%;z-index: -1;}#sk-container-id-1 div.sk-parallel-item {display: flex;flex-direction: column;z-index: 1;position: relative;background-color: white;}#sk-container-id-1 div.sk-parallel-item:first-child::after {align-self: flex-end;width: 50%;}#sk-container-id-1 div.sk-parallel-item:last-child::after {align-self: flex-start;width: 50%;}#sk-container-id-1 div.sk-parallel-item:only-child::after {width: 0;}#sk-container-id-1 div.sk-dashed-wrapped {border: 1px dashed gray;margin: 0 0.4em 0.5em 0.4em;box-sizing: border-box;padding-bottom: 0.4em;background-color: white;}#sk-container-id-1 div.sk-label label {font-family: monospace;font-weight: bold;display: inline-block;line-height: 1.2em;}#sk-container-id-1 div.sk-label-container {text-align: center;}#sk-container-id-1 div.sk-container {/* jupyter's `normalize.less` sets `[hidden] { display: none; }` but bootstrap.min.css set `[hidden] { display: none !important; }` so we also need the `!important` here to be able to override the default hidden behavior on the sphinx rendered scikit-learn.org. See: https://github.com/scikit-learn/scikit-learn/issues/21755 */display: inline-block !important;position: relative;}#sk-container-id-1 div.sk-text-repr-fallback {display: none;}</style><div id=\"sk-container-id-1\" class=\"sk-top-container\"><div class=\"sk-text-repr-fallback\"><pre>GridSearchCV(cv=5, estimator=RandomForestClassifier(), n_jobs=-1,\n",
              "             param_grid={&#x27;max_depth&#x27;: [2, 5, 10, 20],\n",
              "                         &#x27;max_features&#x27;: [&#x27;sqrt&#x27;, &#x27;log2&#x27;],\n",
              "                         &#x27;min_samples_leaf&#x27;: [1, 2, 4],\n",
              "                         &#x27;min_samples_split&#x27;: [2, 5, 10]})</pre><b>In a Jupyter environment, please rerun this cell to show the HTML representation or trust the notebook. <br />On GitHub, the HTML representation is unable to render, please try loading this page with nbviewer.org.</b></div><div class=\"sk-container\" hidden><div class=\"sk-item sk-dashed-wrapped\"><div class=\"sk-label-container\"><div class=\"sk-label sk-toggleable\"><input class=\"sk-toggleable__control sk-hidden--visually\" id=\"sk-estimator-id-1\" type=\"checkbox\" ><label for=\"sk-estimator-id-1\" class=\"sk-toggleable__label sk-toggleable__label-arrow\">GridSearchCV</label><div class=\"sk-toggleable__content\"><pre>GridSearchCV(cv=5, estimator=RandomForestClassifier(), n_jobs=-1,\n",
              "             param_grid={&#x27;max_depth&#x27;: [2, 5, 10, 20],\n",
              "                         &#x27;max_features&#x27;: [&#x27;sqrt&#x27;, &#x27;log2&#x27;],\n",
              "                         &#x27;min_samples_leaf&#x27;: [1, 2, 4],\n",
              "                         &#x27;min_samples_split&#x27;: [2, 5, 10]})</pre></div></div></div><div class=\"sk-parallel\"><div class=\"sk-parallel-item\"><div class=\"sk-item\"><div class=\"sk-label-container\"><div class=\"sk-label sk-toggleable\"><input class=\"sk-toggleable__control sk-hidden--visually\" id=\"sk-estimator-id-2\" type=\"checkbox\" ><label for=\"sk-estimator-id-2\" class=\"sk-toggleable__label sk-toggleable__label-arrow\">estimator: RandomForestClassifier</label><div class=\"sk-toggleable__content\"><pre>RandomForestClassifier()</pre></div></div></div><div class=\"sk-serial\"><div class=\"sk-item\"><div class=\"sk-estimator sk-toggleable\"><input class=\"sk-toggleable__control sk-hidden--visually\" id=\"sk-estimator-id-3\" type=\"checkbox\" ><label for=\"sk-estimator-id-3\" class=\"sk-toggleable__label sk-toggleable__label-arrow\">RandomForestClassifier</label><div class=\"sk-toggleable__content\"><pre>RandomForestClassifier()</pre></div></div></div></div></div></div></div></div></div></div>"
            ],
            "text/plain": [
              "GridSearchCV(cv=5, estimator=RandomForestClassifier(), n_jobs=-1,\n",
              "             param_grid={'max_depth': [2, 5, 10, 20],\n",
              "                         'max_features': ['sqrt', 'log2'],\n",
              "                         'min_samples_leaf': [1, 2, 4],\n",
              "                         'min_samples_split': [2, 5, 10]})"
            ]
          },
          "execution_count": 14,
          "metadata": {},
          "output_type": "execute_result"
        }
      ],
      "source": [
        "# note: This execution will take long time (avg: 1 hour 15 mins). Please wait be patient.\n",
        "\n",
        "x_train, x_test, y_train, y_test = train_test_split(x_new,y_new,test_size=0.2,random_state=42)\n",
        "\n",
        "param_grid = {'max_depth'        : [2, 5, 10, 20],\n",
        "              'min_samples_split': [2, 5, 10],\n",
        "              'min_samples_leaf' : [1, 2, 4],\n",
        "              'max_features'     : ['sqrt', 'log2']}\n",
        "\n",
        "grid_search = GridSearchCV(estimator=RandomForestClassifier(), param_grid=param_grid, cv=5, n_jobs=-1)\n",
        "grid_search.fit(x_train, y_train)"
      ]
    },
    {
      "cell_type": "code",
      "execution_count": null,
      "metadata": {
        "id": "sSTLPICXeJpR"
      },
      "outputs": [],
      "source": [
        "# n_jobs = -1 means it uses the all processors in this process"
      ]
    },
    {
      "cell_type": "code",
      "execution_count": 16,
      "metadata": {
        "colab": {
          "base_uri": "https://localhost:8080/"
        },
        "id": "fVP6VlCffN6e",
        "outputId": "2136091b-a28a-4f00-de11-2e65b75083c0"
      },
      "outputs": [
        {
          "data": {
            "text/plain": [
              "{'max_depth': 20,\n",
              " 'max_features': 'log2',\n",
              " 'min_samples_leaf': 1,\n",
              " 'min_samples_split': 2}"
            ]
          },
          "execution_count": 16,
          "metadata": {},
          "output_type": "execute_result"
        }
      ],
      "source": [
        "# evaluate all the parameter combinations and return the best parameters based on score\n",
        "grid_search.best_params_"
      ]
    },
    {
      "cell_type": "code",
      "execution_count": 17,
      "metadata": {
        "colab": {
          "base_uri": "https://localhost:8080/"
        },
        "id": "tXsiWxNhfShJ",
        "outputId": "c58c1611-e840-40cc-cff0-66e7f6c3e456"
      },
      "outputs": [
        {
          "data": {
            "text/plain": [
              "0.9707135457245608"
            ]
          },
          "execution_count": 17,
          "metadata": {},
          "output_type": "execute_result"
        }
      ],
      "source": [
        "grid_search.best_score_"
      ]
    },
    {
      "cell_type": "code",
      "execution_count": 18,
      "metadata": {
        "colab": {
          "base_uri": "https://localhost:8080/"
        },
        "id": "jGVPV9h6fXN5",
        "outputId": "77cc073a-7f73-4f6e-f6e7-f6b502857a3f"
      },
      "outputs": [
        {
          "data": {
            "text/plain": [
              "(0.9887706310482011, 0.9742743633719037)"
            ]
          },
          "execution_count": 18,
          "metadata": {},
          "output_type": "execute_result"
        }
      ],
      "source": [
        "# passing the parameters in the random forest algorithm and check the accuracy for training and testing\n",
        "\n",
        "x_train, x_test, y_train, y_test = train_test_split(x_new,y_new,test_size=0.2,random_state=42)\n",
        "\n",
        "model = RandomForestClassifier(max_depth=20, max_features='log2', min_samples_leaf=1, min_samples_split=2).fit(x_train, y_train)\n",
        "y_pred_train = model.predict(x_train)\n",
        "y_pred_test = model.predict(x_test)\n",
        "accuracy_train = metrics.accuracy_score(y_train, y_pred_train)\n",
        "accuracy_test = metrics.accuracy_score(y_test, y_pred_test)\n",
        "accuracy_train, accuracy_test"
      ]
    },
    {
      "cell_type": "code",
      "execution_count": null,
      "metadata": {
        "id": "7dIdcX9Sfs4O"
      },
      "outputs": [],
      "source": [
        "# now the training accuracy overfitting reduced. so now model will predict effectively for unseen data"
      ]
    },
    {
      "cell_type": "code",
      "execution_count": 19,
      "metadata": {
        "colab": {
          "base_uri": "https://localhost:8080/"
        },
        "id": "SzvGxRbafu3X",
        "outputId": "2c437cb3-79ee-4db3-eba1-3d0b5b93f3dc"
      },
      "outputs": [
        {
          "name": "stdout",
          "output_type": "stream",
          "text": [
            "[[23024   215]\n",
            " [  945 21879]]\n",
            "              precision    recall  f1-score   support\n",
            "\n",
            "           0       0.96      0.99      0.98     23239\n",
            "           1       0.99      0.96      0.97     22824\n",
            "\n",
            "    accuracy                           0.97     46063\n",
            "   macro avg       0.98      0.97      0.97     46063\n",
            "weighted avg       0.98      0.97      0.97     46063\n",
            "\n"
          ]
        }
      ],
      "source": [
        "# predict the status and check the accuracy using metrics\n",
        "\n",
        "x_train, x_test, y_train, y_test = train_test_split(x_new,y_new,test_size=0.2,random_state=42)\n",
        "\n",
        "model = RandomForestClassifier(max_depth=20, max_features='sqrt', min_samples_leaf=1, min_samples_split=2).fit(x_train, y_train)\n",
        "y_pred = model.predict(x_test)\n",
        "\n",
        "print(confusion_matrix(y_true=y_test, y_pred=y_pred))\n",
        "print(classification_report(y_true=y_test, y_pred=y_pred))"
      ]
    },
    {
      "cell_type": "code",
      "execution_count": 20,
      "metadata": {
        "colab": {
          "base_uri": "https://localhost:8080/"
        },
        "id": "X7J5FfJxgOE9",
        "outputId": "91d9190c-bde2-4ffe-84e7-406984d777ef"
      },
      "outputs": [
        {
          "name": "stdout",
          "output_type": "stream",
          "text": [
            "0.9746722627699573\n"
          ]
        }
      ],
      "source": [
        "# Receiver Operating Characteristic (ROC) Curve and Area Under the Curve (AUC)\n",
        "\n",
        "FP,TP,threshold = roc_curve(y_true=y_test, y_score=y_pred)\n",
        "auc_curve = auc(x=FP, y=TP)\n",
        "print(auc_curve)"
      ]
    },
    {
      "cell_type": "code",
      "execution_count": 21,
      "metadata": {
        "colab": {
          "base_uri": "https://localhost:8080/",
          "height": 449
        },
        "id": "skggmi1ngSMk",
        "outputId": "921ff4b5-4deb-49d4-9bcc-958d21ef09d6"
      },
      "outputs": [
        {
          "data": {
            "image/png": "[encoded data removed]",
            "text/plain": [
              "<Figure size 640x480 with 1 Axes>"
            ]
          },
          "metadata": {},
          "output_type": "display_data"
        }
      ],
      "source": [
        "plt.plot(FP, TP, label=f\"ROC Curve (area={round(auc_curve, 2)}) \")\n",
        "plt.plot([0, 1], [0, 1], 'k--')\n",
        "plt.xlim([0.0, 1.0])\n",
        "plt.ylim([0.0, 1.10])\n",
        "plt.xlabel('False Positive Rate')\n",
        "plt.ylabel('True Positive Rate')\n",
        "plt.legend(loc='lower right')\n",
        "plt.show()"
      ]
    },
    {
      "cell_type": "code",
      "execution_count": 25,
      "metadata": {
        "colab": {
          "base_uri": "https://localhost:8080/"
        },
        "id": "wOoDHborgvLj",
        "outputId": "2a6c26b2-0428-426d-a8ae-963b5106813e"
      },
      "outputs": [
        {
          "data": {
            "text/plain": [
              "Index(['quantity_tons', 'customer', 'country', 'application', 'thickness',\n",
              "       'width', 'product_ref', 'selling_price', 'item_type_IPL',\n",
              "       'item_type_Others', 'item_type_PL', 'item_type_S', 'item_type_SLAWR',\n",
              "       'item_type_W', 'item_type_WI', 'item_date_day', 'item_date_month',\n",
              "       'item_date_year', 'delivery_date_day', 'delivery_date_month',\n",
              "       'delivery_date_year'],\n",
              "      dtype='object')"
            ]
          },
          "execution_count": 25,
          "metadata": {},
          "output_type": "execute_result"
        }
      ],
      "source": [
        "x_new.columns"
      ]
    },
    {
      "cell_type": "code",
      "execution_count": 42,
      "metadata": {
        "colab": {
          "base_uri": "https://localhost:8080/"
        },
        "id": "SwOIKfoKgXUm",
        "outputId": "7fc9dc89-c03c-4e34-a5c3-77c249431706"
      },
      "outputs": [
        {
          "name": "stdout",
          "output_type": "stream",
          "text": [
            "Lost\n"
          ]
        }
      ],
      "source": [
        "import numpy as np\n",
        "import warnings\n",
        "# Filter out the specific warning\n",
        "warnings.filterwarnings(\"ignore\", message=\"X does not have valid feature names.*\")\n",
        "\n",
        "# will pass the user data manually to check the prediction of status ar our model\n",
        "\n",
        "user_data = np.array([[5.1, 30197494, 32, 10, 1.39, 1010, 18.92, 6.91, False, False, True, True, False, True, False, 24, 3, 2021, 1, 4, 2021]])\n",
        "y_predict = model.predict(user_data)\n",
        "if y_predict[0] == 1:\n",
        "    print('Won')\n",
        "else:\n",
        "    print('Lost')"
      ]
    },
    {
      "cell_type": "code",
      "execution_count": 43,
      "metadata": {
        "colab": {
          "base_uri": "https://localhost:8080/"
        },
        "id": "EU9P2MJPkzdT",
        "outputId": "3045956c-5423-40d3-fe2f-20ccd49d55d0"
      },
      "outputs": [
        {
          "name": "stdout",
          "output_type": "stream",
          "text": [
            "Won\n"
          ]
        }
      ],
      "source": [
        "user_data = np.array([[2.72, 30199048, 32, 59, 1.61, 1212, 13.37, 7.02, False, False, False, False, False, True, False, 1, 3, 2021, 1, 7, 2021]])\n",
        "y_predict = model.predict(user_data)\n",
        "if y_predict[0] == 1:\n",
        "    print('Won')\n",
        "else:\n",
        "    print('Lost')"
      ]
    },
    {
      "cell_type": "code",
      "execution_count": 35,
      "metadata": {
        "colab": {
          "base_uri": "https://localhost:8080/"
        },
        "id": "d_USTaGFlMVI",
        "outputId": "89573a8a-c297-4c06-da58-b7f0431095c6"
      },
      "outputs": [
        {
          "name": "stdout",
          "output_type": "stream",
          "text": [
            "1.2.2\n"
          ]
        }
      ],
      "source": [
        "import sklearn\n",
        "print(sklearn.__version__)"
      ]
    },
    {
      "cell_type": "code",
      "execution_count": null,
      "metadata": {
        "id": "Zu_dZC15lWIW"
      },
      "outputs": [],
      "source": [
        "# Note:\n",
        "# google colab sklearn version is 1.2.2\n",
        "# so if you save your model in pickle in colab and download to your system.\n",
        "# after you load the model in your system for prediction measns ----> your system have same 1.2.2 version of sklearn\n",
        "# otherwise it cannot load in your system and it shows error"
      ]
    },
    {
      "cell_type": "code",
      "execution_count": 36,
      "metadata": {
        "id": "OD9JRhlAlaNY"
      },
      "outputs": [],
      "source": [
        "# save the classification model by using pickle\n",
        "\n",
        "import pickle\n",
        "\n",
        "with open('Classification_Model.pkl', 'wb') as f:\n",
        "    pickle.dump(model, f)\n"
      ]
    },
    {
      "cell_type": "code",
      "execution_count": 37,
      "metadata": {
        "id": "SsSt_5lalmLr"
      },
      "outputs": [],
      "source": [
        "# Now successfully saved our model in 'classification_model.pkl' pickle file.\n",
        "# Hereafter you can load and using this pickle file only to predict the status.\n",
        "# (don't need any packages - only need numpy for pass user input)"
      ]
    },
    {
      "cell_type": "code",
      "execution_count": 44,
      "metadata": {
        "colab": {
          "base_uri": "https://localhost:8080/"
        },
        "id": "pkzqvcaSlnox",
        "outputId": "09ac0b7f-e8c8-4354-c3a2-a51c6e7e08fa"
      },
      "outputs": [
        {
          "name": "stdout",
          "output_type": "stream",
          "text": [
            "Won\n"
          ]
        }
      ],
      "source": [
        "# load pickle model to predict the status (like Trained brain).\n",
        "\n",
        "with open('/content/Classification_Model.pkl', 'rb') as f:\n",
        "    model = pickle.load(f)\n",
        "\n",
        "user_data = np.array([[5.27, 30235401, 78, 10, 2.08, 1020, 13.37, 6.7, False, False, False, False, False, True, False, 18, 3, 2021, 1, 4, 2021]])\n",
        "y_predict = model.predict(user_data)\n",
        "if y_predict[0] == 1:\n",
        "    print('Won')\n",
        "else:\n",
        "    print('Lost')"
      ]
    },
    {
      "cell_type": "code",
      "execution_count": 45,
      "metadata": {
        "colab": {
          "base_uri": "https://localhost:8080/"
        },
        "id": "NDQIiXGbmDxv",
        "outputId": "ab045b0d-6a4a-4dbd-d0d7-955457f9af8b"
      },
      "outputs": [
        {
          "name": "stdout",
          "output_type": "stream",
          "text": [
            "Won\n"
          ]
        }
      ],
      "source": [
        "user_data = np.array([[6.41, 30199179, 32, 27, 1.39, 1300, 18.92, 6.83, False, False, False, False, False, True, False, 18, 3, 2021, 1, 4, 2021]])\n",
        "y_predict = model.predict(user_data)\n",
        "if y_predict[0] == 1:\n",
        "    print('Won')\n",
        "else:\n",
        "    print('Lost')"
      ]
    },
    {
      "cell_type": "markdown",
      "metadata": {
        "id": "exjg4AdPm2gH"
      },
      "source": [
        "# **Regression Method - Prdict Selling Price**"
      ]
    },
    {
      "cell_type": "code",
      "execution_count": 46,
      "metadata": {
        "id": "TIPkkol2m8TI"
      },
      "outputs": [],
      "source": [
        "from sklearn.preprocessing import OrdinalEncoder\n",
        "from sklearn.model_selection import train_test_split\n",
        "from sklearn.metrics import mean_absolute_error, mean_squared_error, r2_score\n",
        "from sklearn.tree import DecisionTreeRegressor\n",
        "from sklearn.ensemble import ExtraTreesRegressor\n",
        "from sklearn.ensemble import RandomForestRegressor\n",
        "from sklearn.ensemble import AdaBoostRegressor\n",
        "from sklearn.ensemble import GradientBoostingRegressor\n",
        "from xgboost import XGBRegressor\n",
        "import pickle"
      ]
    },
    {
      "cell_type": "code",
      "execution_count": 47,
      "metadata": {
        "colab": {
          "base_uri": "https://localhost:8080/",
          "height": 443
        },
        "id": "7xTFBH4SnN7a",
        "outputId": "7940752f-5186-4ca5-8791-8220045460b0"
      },
      "outputs": [
        {
          "data": {
            "application/vnd.google.colaboratory.intrinsic+json": {
              "type": "dataframe",
              "variable_name": "df"
            },
            "text/html": [
              "\n",
              "  <div id=\"df-46eafbea-45da-434c-b094-2d2a264e3002\" class=\"colab-df-container\">\n",
              "    <div>\n",
              "<style scoped>\n",
              "    .dataframe tbody tr th:only-of-type {\n",
              "        vertical-align: middle;\n",
              "    }\n",
              "\n",
              "    .dataframe tbody tr th {\n",
              "        vertical-align: top;\n",
              "    }\n",
              "\n",
              "    .dataframe thead th {\n",
              "        text-align: right;\n",
              "    }\n",
              "</style>\n",
              "<table border=\"1\" class=\"dataframe\">\n",
              "  <thead>\n",
              "    <tr style=\"text-align: right;\">\n",
              "      <th></th>\n",
              "      <th>quantity_tons</th>\n",
              "      <th>customer</th>\n",
              "      <th>country</th>\n",
              "      <th>status</th>\n",
              "      <th>application</th>\n",
              "      <th>thickness</th>\n",
              "      <th>width</th>\n",
              "      <th>product_ref</th>\n",
              "      <th>selling_price</th>\n",
              "      <th>item_type_IPL</th>\n",
              "      <th>...</th>\n",
              "      <th>item_type_S</th>\n",
              "      <th>item_type_SLAWR</th>\n",
              "      <th>item_type_W</th>\n",
              "      <th>item_type_WI</th>\n",
              "      <th>item_date_day</th>\n",
              "      <th>item_date_month</th>\n",
              "      <th>item_date_year</th>\n",
              "      <th>delivery_date_day</th>\n",
              "      <th>delivery_date_month</th>\n",
              "      <th>delivery_date_year</th>\n",
              "    </tr>\n",
              "  </thead>\n",
              "  <tbody>\n",
              "    <tr>\n",
              "      <th>0</th>\n",
              "      <td>4.010077</td>\n",
              "      <td>30156308</td>\n",
              "      <td>28</td>\n",
              "      <td>1</td>\n",
              "      <td>10</td>\n",
              "      <td>1.098612</td>\n",
              "      <td>1500.0</td>\n",
              "      <td>21.236568</td>\n",
              "      <td>6.751101</td>\n",
              "      <td>False</td>\n",
              "      <td>...</td>\n",
              "      <td>False</td>\n",
              "      <td>False</td>\n",
              "      <td>True</td>\n",
              "      <td>False</td>\n",
              "      <td>1</td>\n",
              "      <td>4</td>\n",
              "      <td>2021</td>\n",
              "      <td>1</td>\n",
              "      <td>7</td>\n",
              "      <td>2021</td>\n",
              "    </tr>\n",
              "    <tr>\n",
              "      <th>1</th>\n",
              "      <td>6.645123</td>\n",
              "      <td>30202938</td>\n",
              "      <td>25</td>\n",
              "      <td>1</td>\n",
              "      <td>41</td>\n",
              "      <td>0.587787</td>\n",
              "      <td>1210.0</td>\n",
              "      <td>21.235312</td>\n",
              "      <td>6.954639</td>\n",
              "      <td>False</td>\n",
              "      <td>...</td>\n",
              "      <td>False</td>\n",
              "      <td>False</td>\n",
              "      <td>True</td>\n",
              "      <td>False</td>\n",
              "      <td>1</td>\n",
              "      <td>4</td>\n",
              "      <td>2021</td>\n",
              "      <td>1</td>\n",
              "      <td>4</td>\n",
              "      <td>2021</td>\n",
              "    </tr>\n",
              "    <tr>\n",
              "      <th>2</th>\n",
              "      <td>5.424027</td>\n",
              "      <td>30202938</td>\n",
              "      <td>25</td>\n",
              "      <td>1</td>\n",
              "      <td>41</td>\n",
              "      <td>0.916291</td>\n",
              "      <td>1265.0</td>\n",
              "      <td>21.235312</td>\n",
              "      <td>6.891626</td>\n",
              "      <td>False</td>\n",
              "      <td>...</td>\n",
              "      <td>False</td>\n",
              "      <td>False</td>\n",
              "      <td>True</td>\n",
              "      <td>False</td>\n",
              "      <td>1</td>\n",
              "      <td>4</td>\n",
              "      <td>2021</td>\n",
              "      <td>1</td>\n",
              "      <td>4</td>\n",
              "      <td>2021</td>\n",
              "    </tr>\n",
              "    <tr>\n",
              "      <th>3</th>\n",
              "      <td>4.249521</td>\n",
              "      <td>30341428</td>\n",
              "      <td>38</td>\n",
              "      <td>1</td>\n",
              "      <td>10</td>\n",
              "      <td>0.470004</td>\n",
              "      <td>1275.0</td>\n",
              "      <td>21.235312</td>\n",
              "      <td>7.218177</td>\n",
              "      <td>False</td>\n",
              "      <td>...</td>\n",
              "      <td>True</td>\n",
              "      <td>False</td>\n",
              "      <td>False</td>\n",
              "      <td>False</td>\n",
              "      <td>1</td>\n",
              "      <td>4</td>\n",
              "      <td>2021</td>\n",
              "      <td>1</td>\n",
              "      <td>7</td>\n",
              "      <td>2021</td>\n",
              "    </tr>\n",
              "    <tr>\n",
              "      <th>4</th>\n",
              "      <td>6.448299</td>\n",
              "      <td>30202938</td>\n",
              "      <td>25</td>\n",
              "      <td>1</td>\n",
              "      <td>41</td>\n",
              "      <td>0.916291</td>\n",
              "      <td>1165.0</td>\n",
              "      <td>21.235312</td>\n",
              "      <td>6.891626</td>\n",
              "      <td>False</td>\n",
              "      <td>...</td>\n",
              "      <td>False</td>\n",
              "      <td>False</td>\n",
              "      <td>True</td>\n",
              "      <td>False</td>\n",
              "      <td>1</td>\n",
              "      <td>4</td>\n",
              "      <td>2021</td>\n",
              "      <td>1</td>\n",
              "      <td>4</td>\n",
              "      <td>2021</td>\n",
              "    </tr>\n",
              "    <tr>\n",
              "      <th>...</th>\n",
              "      <td>...</td>\n",
              "      <td>...</td>\n",
              "      <td>...</td>\n",
              "      <td>...</td>\n",
              "      <td>...</td>\n",
              "      <td>...</td>\n",
              "      <td>...</td>\n",
              "      <td>...</td>\n",
              "      <td>...</td>\n",
              "      <td>...</td>\n",
              "      <td>...</td>\n",
              "      <td>...</td>\n",
              "      <td>...</td>\n",
              "      <td>...</td>\n",
              "      <td>...</td>\n",
              "      <td>...</td>\n",
              "      <td>...</td>\n",
              "      <td>...</td>\n",
              "      <td>...</td>\n",
              "      <td>...</td>\n",
              "      <td>...</td>\n",
              "    </tr>\n",
              "    <tr>\n",
              "      <th>150443</th>\n",
              "      <td>4.639402</td>\n",
              "      <td>30200854</td>\n",
              "      <td>25</td>\n",
              "      <td>1</td>\n",
              "      <td>41</td>\n",
              "      <td>0.672944</td>\n",
              "      <td>1220.0</td>\n",
              "      <td>18.916240</td>\n",
              "      <td>6.383507</td>\n",
              "      <td>False</td>\n",
              "      <td>...</td>\n",
              "      <td>False</td>\n",
              "      <td>False</td>\n",
              "      <td>True</td>\n",
              "      <td>False</td>\n",
              "      <td>2</td>\n",
              "      <td>7</td>\n",
              "      <td>2020</td>\n",
              "      <td>1</td>\n",
              "      <td>8</td>\n",
              "      <td>2020</td>\n",
              "    </tr>\n",
              "    <tr>\n",
              "      <th>150444</th>\n",
              "      <td>5.342748</td>\n",
              "      <td>30200854</td>\n",
              "      <td>25</td>\n",
              "      <td>1</td>\n",
              "      <td>41</td>\n",
              "      <td>0.667829</td>\n",
              "      <td>1500.0</td>\n",
              "      <td>18.916240</td>\n",
              "      <td>6.380123</td>\n",
              "      <td>False</td>\n",
              "      <td>...</td>\n",
              "      <td>False</td>\n",
              "      <td>False</td>\n",
              "      <td>True</td>\n",
              "      <td>False</td>\n",
              "      <td>2</td>\n",
              "      <td>7</td>\n",
              "      <td>2020</td>\n",
              "      <td>1</td>\n",
              "      <td>8</td>\n",
              "      <td>2020</td>\n",
              "    </tr>\n",
              "    <tr>\n",
              "      <th>150445</th>\n",
              "      <td>1.655480</td>\n",
              "      <td>30200854</td>\n",
              "      <td>25</td>\n",
              "      <td>1</td>\n",
              "      <td>41</td>\n",
              "      <td>0.536493</td>\n",
              "      <td>1250.0</td>\n",
              "      <td>18.916240</td>\n",
              "      <td>6.429719</td>\n",
              "      <td>False</td>\n",
              "      <td>...</td>\n",
              "      <td>False</td>\n",
              "      <td>False</td>\n",
              "      <td>True</td>\n",
              "      <td>False</td>\n",
              "      <td>2</td>\n",
              "      <td>7</td>\n",
              "      <td>2020</td>\n",
              "      <td>1</td>\n",
              "      <td>8</td>\n",
              "      <td>2020</td>\n",
              "    </tr>\n",
              "    <tr>\n",
              "      <th>150446</th>\n",
              "      <td>3.431882</td>\n",
              "      <td>30200854</td>\n",
              "      <td>25</td>\n",
              "      <td>1</td>\n",
              "      <td>41</td>\n",
              "      <td>0.615186</td>\n",
              "      <td>1250.0</td>\n",
              "      <td>18.916240</td>\n",
              "      <td>6.400257</td>\n",
              "      <td>False</td>\n",
              "      <td>...</td>\n",
              "      <td>False</td>\n",
              "      <td>False</td>\n",
              "      <td>True</td>\n",
              "      <td>False</td>\n",
              "      <td>2</td>\n",
              "      <td>7</td>\n",
              "      <td>2020</td>\n",
              "      <td>1</td>\n",
              "      <td>8</td>\n",
              "      <td>2020</td>\n",
              "    </tr>\n",
              "    <tr>\n",
              "      <th>150447</th>\n",
              "      <td>6.010499</td>\n",
              "      <td>30200854</td>\n",
              "      <td>25</td>\n",
              "      <td>1</td>\n",
              "      <td>41</td>\n",
              "      <td>0.536493</td>\n",
              "      <td>1240.0</td>\n",
              "      <td>18.916240</td>\n",
              "      <td>6.410175</td>\n",
              "      <td>False</td>\n",
              "      <td>...</td>\n",
              "      <td>False</td>\n",
              "      <td>False</td>\n",
              "      <td>True</td>\n",
              "      <td>False</td>\n",
              "      <td>2</td>\n",
              "      <td>7</td>\n",
              "      <td>2020</td>\n",
              "      <td>1</td>\n",
              "      <td>8</td>\n",
              "      <td>2020</td>\n",
              "    </tr>\n",
              "  </tbody>\n",
              "</table>\n",
              "<p>150448 rows × 22 columns</p>\n",
              "</div>\n",
              "    <div class=\"colab-df-buttons\">\n",
              "\n",
              "  <div class=\"colab-df-container\">\n",
              "    <button class=\"colab-df-convert\" onclick=\"convertToInteractive('df-46eafbea-45da-434c-b094-2d2a264e3002')\"\n",
              "            title=\"Convert this dataframe to an interactive table.\"\n",
              "            style=\"display:none;\">\n",
              "\n",
              "  <svg xmlns=\"http://www.w3.org/2000/svg\" height=\"24px\" viewBox=\"0 -960 960 960\">\n",
              "    <path d=\"M120-120v-720h720v720H120Zm60-500h600v-160H180v160Zm220 220h160v-160H400v160Zm0 220h160v-160H400v160ZM180-400h160v-160H180v160Zm440 0h160v-160H620v160ZM180-180h160v-160H180v160Zm440 0h160v-160H620v160Z\"/>\n",
              "  </svg>\n",
              "    </button>\n",
              "\n",
              "  <style>\n",
              "    .colab-df-container {\n",
              "      display:flex;\n",
              "      gap: 12px;\n",
              "    }\n",
              "\n",
              "    .colab-df-convert {\n",
              "      background-color: #E8F0FE;\n",
              "      border: none;\n",
              "      border-radius: 50%;\n",
              "      cursor: pointer;\n",
              "      display: none;\n",
              "      fill: #1967D2;\n",
              "      height: 32px;\n",
              "      padding: 0 0 0 0;\n",
              "      width: 32px;\n",
              "    }\n",
              "\n",
              "    .colab-df-convert:hover {\n",
              "      background-color: #E2EBFA;\n",
              "      box-shadow: 0px 1px 2px rgba(60, 64, 67, 0.3), 0px 1px 3px 1px rgba(60, 64, 67, 0.15);\n",
              "      fill: #174EA6;\n",
              "    }\n",
              "\n",
              "    .colab-df-buttons div {\n",
              "      margin-bottom: 4px;\n",
              "    }\n",
              "\n",
              "    [theme=dark] .colab-df-convert {\n",
              "      background-color: #3B4455;\n",
              "      fill: #D2E3FC;\n",
              "    }\n",
              "\n",
              "    [theme=dark] .colab-df-convert:hover {\n",
              "      background-color: #434B5C;\n",
              "      box-shadow: 0px 1px 3px 1px rgba(0, 0, 0, 0.15);\n",
              "      filter: drop-shadow(0px 1px 2px rgba(0, 0, 0, 0.3));\n",
              "      fill: #FFFFFF;\n",
              "    }\n",
              "  </style>\n",
              "\n",
              "    <script>\n",
              "      const buttonEl =\n",
              "        document.querySelector('#df-46eafbea-45da-434c-b094-2d2a264e3002 button.colab-df-convert');\n",
              "      buttonEl.style.display =\n",
              "        google.colab.kernel.accessAllowed ? 'block' : 'none';\n",
              "\n",
              "      async function convertToInteractive(key) {\n",
              "        const element = document.querySelector('#df-46eafbea-45da-434c-b094-2d2a264e3002');\n",
              "        const dataTable =\n",
              "          await google.colab.kernel.invokeFunction('convertToInteractive',\n",
              "                                                    [key], {});\n",
              "        if (!dataTable) return;\n",
              "\n",
              "        const docLinkHtml = 'Like what you see? Visit the ' +\n",
              "          '<a target=\"_blank\" href=https://colab.research.google.com/notebooks/data_table.ipynb>data table notebook</a>'\n",
              "          + ' to learn more about interactive tables.';\n",
              "        element.innerHTML = '';\n",
              "        dataTable['output_type'] = 'display_data';\n",
              "        await google.colab.output.renderOutput(dataTable, element);\n",
              "        const docLink = document.createElement('div');\n",
              "        docLink.innerHTML = docLinkHtml;\n",
              "        element.appendChild(docLink);\n",
              "      }\n",
              "    </script>\n",
              "  </div>\n",
              "\n",
              "\n",
              "<div id=\"df-ab236d84-2bbc-49aa-92c0-9d2c58e66354\">\n",
              "  <button class=\"colab-df-quickchart\" onclick=\"quickchart('df-ab236d84-2bbc-49aa-92c0-9d2c58e66354')\"\n",
              "            title=\"Suggest charts\"\n",
              "            style=\"display:none;\">\n",
              "\n",
              "<svg xmlns=\"http://www.w3.org/2000/svg\" height=\"24px\"viewBox=\"0 0 24 24\"\n",
              "     width=\"24px\">\n",
              "    <g>\n",
              "        <path d=\"M19 3H5c-1.1 0-2 .9-2 2v14c0 1.1.9 2 2 2h14c1.1 0 2-.9 2-2V5c0-1.1-.9-2-2-2zM9 17H7v-7h2v7zm4 0h-2V7h2v10zm4 0h-2v-4h2v4z\"/>\n",
              "    </g>\n",
              "</svg>\n",
              "  </button>\n",
              "\n",
              "<style>\n",
              "  .colab-df-quickchart {\n",
              "      --bg-color: #E8F0FE;\n",
              "      --fill-color: #1967D2;\n",
              "      --hover-bg-color: #E2EBFA;\n",
              "      --hover-fill-color: #174EA6;\n",
              "      --disabled-fill-color: #AAA;\n",
              "      --disabled-bg-color: #DDD;\n",
              "  }\n",
              "\n",
              "  [theme=dark] .colab-df-quickchart {\n",
              "      --bg-color: #3B4455;\n",
              "      --fill-color: #D2E3FC;\n",
              "      --hover-bg-color: #434B5C;\n",
              "      --hover-fill-color: #FFFFFF;\n",
              "      --disabled-bg-color: #3B4455;\n",
              "      --disabled-fill-color: #666;\n",
              "  }\n",
              "\n",
              "  .colab-df-quickchart {\n",
              "    background-color: var(--bg-color);\n",
              "    border: none;\n",
              "    border-radius: 50%;\n",
              "    cursor: pointer;\n",
              "    display: none;\n",
              "    fill: var(--fill-color);\n",
              "    height: 32px;\n",
              "    padding: 0;\n",
              "    width: 32px;\n",
              "  }\n",
              "\n",
              "  .colab-df-quickchart:hover {\n",
              "    background-color: var(--hover-bg-color);\n",
              "    box-shadow: 0 1px 2px rgba(60, 64, 67, 0.3), 0 1px 3px 1px rgba(60, 64, 67, 0.15);\n",
              "    fill: var(--button-hover-fill-color);\n",
              "  }\n",
              "\n",
              "  .colab-df-quickchart-complete:disabled,\n",
              "  .colab-df-quickchart-complete:disabled:hover {\n",
              "    background-color: var(--disabled-bg-color);\n",
              "    fill: var(--disabled-fill-color);\n",
              "    box-shadow: none;\n",
              "  }\n",
              "\n",
              "  .colab-df-spinner {\n",
              "    border: 2px solid var(--fill-color);\n",
              "    border-color: transparent;\n",
              "    border-bottom-color: var(--fill-color);\n",
              "    animation:\n",
              "      spin 1s steps(1) infinite;\n",
              "  }\n",
              "\n",
              "  @keyframes spin {\n",
              "    0% {\n",
              "      border-color: transparent;\n",
              "      border-bottom-color: var(--fill-color);\n",
              "      border-left-color: var(--fill-color);\n",
              "    }\n",
              "    20% {\n",
              "      border-color: transparent;\n",
              "      border-left-color: var(--fill-color);\n",
              "      border-top-color: var(--fill-color);\n",
              "    }\n",
              "    30% {\n",
              "      border-color: transparent;\n",
              "      border-left-color: var(--fill-color);\n",
              "      border-top-color: var(--fill-color);\n",
              "      border-right-color: var(--fill-color);\n",
              "    }\n",
              "    40% {\n",
              "      border-color: transparent;\n",
              "      border-right-color: var(--fill-color);\n",
              "      border-top-color: var(--fill-color);\n",
              "    }\n",
              "    60% {\n",
              "      border-color: transparent;\n",
              "      border-right-color: var(--fill-color);\n",
              "    }\n",
              "    80% {\n",
              "      border-color: transparent;\n",
              "      border-right-color: var(--fill-color);\n",
              "      border-bottom-color: var(--fill-color);\n",
              "    }\n",
              "    90% {\n",
              "      border-color: transparent;\n",
              "      border-bottom-color: var(--fill-color);\n",
              "    }\n",
              "  }\n",
              "</style>\n",
              "\n",
              "  <script>\n",
              "    async function quickchart(key) {\n",
              "      const quickchartButtonEl =\n",
              "        document.querySelector('#' + key + ' button');\n",
              "      quickchartButtonEl.disabled = true;  // To prevent multiple clicks.\n",
              "      quickchartButtonEl.classList.add('colab-df-spinner');\n",
              "      try {\n",
              "        const charts = await google.colab.kernel.invokeFunction(\n",
              "            'suggestCharts', [key], {});\n",
              "      } catch (error) {\n",
              "        console.error('Error during call to suggestCharts:', error);\n",
              "      }\n",
              "      quickchartButtonEl.classList.remove('colab-df-spinner');\n",
              "      quickchartButtonEl.classList.add('colab-df-quickchart-complete');\n",
              "    }\n",
              "    (() => {\n",
              "      let quickchartButtonEl =\n",
              "        document.querySelector('#df-ab236d84-2bbc-49aa-92c0-9d2c58e66354 button');\n",
              "      quickchartButtonEl.style.display =\n",
              "        google.colab.kernel.accessAllowed ? 'block' : 'none';\n",
              "    })();\n",
              "  </script>\n",
              "</div>\n",
              "\n",
              "  <div id=\"id_5b5917be-bda9-4f51-8259-582e64f0a0d9\">\n",
              "    <style>\n",
              "      .colab-df-generate {\n",
              "        background-color: #E8F0FE;\n",
              "        border: none;\n",
              "        border-radius: 50%;\n",
              "        cursor: pointer;\n",
              "        display: none;\n",
              "        fill: #1967D2;\n",
              "        height: 32px;\n",
              "        padding: 0 0 0 0;\n",
              "        width: 32px;\n",
              "      }\n",
              "\n",
              "      .colab-df-generate:hover {\n",
              "        background-color: #E2EBFA;\n",
              "        box-shadow: 0px 1px 2px rgba(60, 64, 67, 0.3), 0px 1px 3px 1px rgba(60, 64, 67, 0.15);\n",
              "        fill: #174EA6;\n",
              "      }\n",
              "\n",
              "      [theme=dark] .colab-df-generate {\n",
              "        background-color: #3B4455;\n",
              "        fill: #D2E3FC;\n",
              "      }\n",
              "\n",
              "      [theme=dark] .colab-df-generate:hover {\n",
              "        background-color: #434B5C;\n",
              "        box-shadow: 0px 1px 3px 1px rgba(0, 0, 0, 0.15);\n",
              "        filter: drop-shadow(0px 1px 2px rgba(0, 0, 0, 0.3));\n",
              "        fill: #FFFFFF;\n",
              "      }\n",
              "    </style>\n",
              "    <button class=\"colab-df-generate\" onclick=\"generateWithVariable('df')\"\n",
              "            title=\"Generate code using this dataframe.\"\n",
              "            style=\"display:none;\">\n",
              "\n",
              "  <svg xmlns=\"http://www.w3.org/2000/svg\" height=\"24px\"viewBox=\"0 0 24 24\"\n",
              "       width=\"24px\">\n",
              "    <path d=\"M7,19H8.4L18.45,9,17,7.55,7,17.6ZM5,21V16.75L18.45,3.32a2,2,0,0,1,2.83,0l1.4,1.43a1.91,1.91,0,0,1,.58,1.4,1.91,1.91,0,0,1-.58,1.4L9.25,21ZM18.45,9,17,7.55Zm-12,3A5.31,5.31,0,0,0,4.9,8.1,5.31,5.31,0,0,0,1,6.5,5.31,5.31,0,0,0,4.9,4.9,5.31,5.31,0,0,0,6.5,1,5.31,5.31,0,0,0,8.1,4.9,5.31,5.31,0,0,0,12,6.5,5.46,5.46,0,0,0,6.5,12Z\"/>\n",
              "  </svg>\n",
              "    </button>\n",
              "    <script>\n",
              "      (() => {\n",
              "      const buttonEl =\n",
              "        document.querySelector('#id_5b5917be-bda9-4f51-8259-582e64f0a0d9 button.colab-df-generate');\n",
              "      buttonEl.style.display =\n",
              "        google.colab.kernel.accessAllowed ? 'block' : 'none';\n",
              "\n",
              "      buttonEl.onclick = () => {\n",
              "        google.colab.notebook.generateWithVariable('df');\n",
              "      }\n",
              "      })();\n",
              "    </script>\n",
              "  </div>\n",
              "\n",
              "    </div>\n",
              "  </div>\n"
            ],
            "text/plain": [
              "        quantity_tons  customer  country  status  application  thickness  \\\n",
              "0            4.010077  30156308       28       1           10   1.098612   \n",
              "1            6.645123  30202938       25       1           41   0.587787   \n",
              "2            5.424027  30202938       25       1           41   0.916291   \n",
              "3            4.249521  30341428       38       1           10   0.470004   \n",
              "4            6.448299  30202938       25       1           41   0.916291   \n",
              "...               ...       ...      ...     ...          ...        ...   \n",
              "150443       4.639402  30200854       25       1           41   0.672944   \n",
              "150444       5.342748  30200854       25       1           41   0.667829   \n",
              "150445       1.655480  30200854       25       1           41   0.536493   \n",
              "150446       3.431882  30200854       25       1           41   0.615186   \n",
              "150447       6.010499  30200854       25       1           41   0.536493   \n",
              "\n",
              "         width  product_ref  selling_price  item_type_IPL  ...  item_type_S  \\\n",
              "0       1500.0    21.236568       6.751101          False  ...        False   \n",
              "1       1210.0    21.235312       6.954639          False  ...        False   \n",
              "2       1265.0    21.235312       6.891626          False  ...        False   \n",
              "3       1275.0    21.235312       7.218177          False  ...         True   \n",
              "4       1165.0    21.235312       6.891626          False  ...        False   \n",
              "...        ...          ...            ...            ...  ...          ...   \n",
              "150443  1220.0    18.916240       6.383507          False  ...        False   \n",
              "150444  1500.0    18.916240       6.380123          False  ...        False   \n",
              "150445  1250.0    18.916240       6.429719          False  ...        False   \n",
              "150446  1250.0    18.916240       6.400257          False  ...        False   \n",
              "150447  1240.0    18.916240       6.410175          False  ...        False   \n",
              "\n",
              "        item_type_SLAWR  item_type_W  item_type_WI  item_date_day  \\\n",
              "0                 False         True         False              1   \n",
              "1                 False         True         False              1   \n",
              "2                 False         True         False              1   \n",
              "3                 False        False         False              1   \n",
              "4                 False         True         False              1   \n",
              "...                 ...          ...           ...            ...   \n",
              "150443            False         True         False              2   \n",
              "150444            False         True         False              2   \n",
              "150445            False         True         False              2   \n",
              "150446            False         True         False              2   \n",
              "150447            False         True         False              2   \n",
              "\n",
              "        item_date_month  item_date_year  delivery_date_day  \\\n",
              "0                     4            2021                  1   \n",
              "1                     4            2021                  1   \n",
              "2                     4            2021                  1   \n",
              "3                     4            2021                  1   \n",
              "4                     4            2021                  1   \n",
              "...                 ...             ...                ...   \n",
              "150443                7            2020                  1   \n",
              "150444                7            2020                  1   \n",
              "150445                7            2020                  1   \n",
              "150446                7            2020                  1   \n",
              "150447                7            2020                  1   \n",
              "\n",
              "        delivery_date_month  delivery_date_year  \n",
              "0                         7                2021  \n",
              "1                         4                2021  \n",
              "2                         4                2021  \n",
              "3                         7                2021  \n",
              "4                         4                2021  \n",
              "...                     ...                 ...  \n",
              "150443                    8                2020  \n",
              "150444                    8                2020  \n",
              "150445                    8                2020  \n",
              "150446                    8                2020  \n",
              "150447                    8                2020  \n",
              "\n",
              "[150448 rows x 22 columns]"
            ]
          },
          "execution_count": 47,
          "metadata": {},
          "output_type": "execute_result"
        }
      ],
      "source": [
        "df"
      ]
    },
    {
      "cell_type": "code",
      "execution_count": 48,
      "metadata": {
        "colab": {
          "base_uri": "https://localhost:8080/"
        },
        "id": "O6cAK6UYnP1O",
        "outputId": "7b3d55d5-c3f4-4b23-dc4d-a683e24e7e3f"
      },
      "outputs": [
        {
          "data": {
            "text/plain": [
              "Index(['quantity_tons', 'customer', 'country', 'status', 'application',\n",
              "       'thickness', 'width', 'product_ref', 'selling_price', 'item_type_IPL',\n",
              "       'item_type_Others', 'item_type_PL', 'item_type_S', 'item_type_SLAWR',\n",
              "       'item_type_W', 'item_type_WI', 'item_date_day', 'item_date_month',\n",
              "       'item_date_year', 'delivery_date_day', 'delivery_date_month',\n",
              "       'delivery_date_year'],\n",
              "      dtype='object')"
            ]
          },
          "execution_count": 48,
          "metadata": {},
          "output_type": "execute_result"
        }
      ],
      "source": [
        "df.columns"
      ]
    },
    {
      "cell_type": "code",
      "execution_count": 50,
      "metadata": {
        "id": "0PMTCbU5o6o3"
      },
      "outputs": [],
      "source": [
        "df_2 = df.copy()"
      ]
    },
    {
      "cell_type": "code",
      "execution_count": 59,
      "metadata": {
        "id": "IJt_lCUEnT1X"
      },
      "outputs": [],
      "source": [
        "# check the train and test accuracy using R2 (R-squared ---> coefficient of determination) to predict selling price\n",
        "\n",
        "def machine_learning_regression(df, algorithm):\n",
        "\n",
        "    x = df.drop(columns=['selling_price'], axis=1)\n",
        "    y = df['selling_price']\n",
        "    x_train, x_test, y_train, y_test = train_test_split(x,y,test_size=0.2,random_state=42)\n",
        "\n",
        "    model = algorithm().fit(x_train, y_train)\n",
        "    y_pred_train = model.predict(x_train)\n",
        "    y_pred_test = model.predict(x_test)\n",
        "    r2_train = r2_score(y_train, y_pred_train)\n",
        "    r2_test = r2_score(y_test, y_pred_test)\n",
        "\n",
        "    # algo = str(algorithm).split(\"'\")[1].split(\".\")[-1]\n",
        "    accuracy_metrics = {'algorithm': algorithm.__name__,\n",
        "                        'R2_train' : r2_train,\n",
        "                        'R2_test'  : r2_test}\n",
        "\n",
        "    return accuracy_metrics"
      ]
    },
    {
      "cell_type": "code",
      "execution_count": 58,
      "metadata": {
        "colab": {
          "base_uri": "https://localhost:8080/"
        },
        "id": "yZ2PgypLqUvh",
        "outputId": "527fc84b-0743-4710-c807-28847f48c17b"
      },
      "outputs": [
        {
          "data": {
            "text/plain": [
              "0         6.751101\n",
              "1         6.954639\n",
              "2         6.891626\n",
              "3         7.218177\n",
              "4         6.891626\n",
              "            ...   \n",
              "150443    6.383507\n",
              "150444    6.380123\n",
              "150445    6.429719\n",
              "150446    6.400257\n",
              "150447    6.410175\n",
              "Name: selling_price, Length: 150448, dtype: float64"
            ]
          },
          "execution_count": 58,
          "metadata": {},
          "output_type": "execute_result"
        }
      ],
      "source": [
        "df_2['selling_price']"
      ]
    },
    {
      "cell_type": "code",
      "execution_count": 62,
      "metadata": {
        "colab": {
          "base_uri": "https://localhost:8080/"
        },
        "id": "R2NI9luwo-hA",
        "outputId": "111a0e28-a6ee-41f2-b01a-68cb487c6a1c"
      },
      "outputs": [
        {
          "name": "stdout",
          "output_type": "stream",
          "text": [
            "Before Over Sampling:  {'algorithm': 'DecisionTreeRegressor', 'R2_train': 0.9999613906083955, 'R2_test': 0.9286328157539371}\n",
            "After Over Sampling:  {'algorithm': 'DecisionTreeRegressor', 'R2_train': 0.9999613906083955, 'R2_test': 0.9299267206758242}\n",
            "\n",
            "Before Over Sampling:  {'algorithm': 'ExtraTreesRegressor', 'R2_train': 0.9999613906083955, 'R2_test': 0.9567419780159095}\n",
            "After Over Sampling:  {'algorithm': 'ExtraTreesRegressor', 'R2_train': 0.9999613906083955, 'R2_test': 0.9564346723717885}\n",
            "\n",
            "Before Over Sampling:  {'algorithm': 'RandomForestRegressor', 'R2_train': 0.9943540257284206, 'R2_test': 0.9595231263457772}\n",
            "After Over Sampling:  {'algorithm': 'RandomForestRegressor', 'R2_train': 0.9943208772634321, 'R2_test': 0.9596984650452778}\n",
            "\n",
            "Before Over Sampling:  {'algorithm': 'AdaBoostRegressor', 'R2_train': 0.7373789733065069, 'R2_test': 0.739132321776321}\n",
            "After Over Sampling:  {'algorithm': 'AdaBoostRegressor', 'R2_train': 0.7407202501156135, 'R2_test': 0.7412338879889901}\n",
            "\n",
            "Before Over Sampling:  {'algorithm': 'GradientBoostingRegressor', 'R2_train': 0.8923092491942506, 'R2_test': 0.8918047678515026}\n",
            "After Over Sampling:  {'algorithm': 'GradientBoostingRegressor', 'R2_train': 0.8923092491942505, 'R2_test': 0.8918047678515024}\n",
            "\n",
            "Before Over Sampling:  {'algorithm': 'XGBRegressor', 'R2_train': 0.9520332052853698, 'R2_test': 0.9458244248583058}\n",
            "After Over Sampling:  {'algorithm': 'XGBRegressor', 'R2_train': 0.9520332052853698, 'R2_test': 0.9458244248583058}\n",
            "\n"
          ]
        }
      ],
      "source": [
        "algorithms = [DecisionTreeRegressor, ExtraTreesRegressor, RandomForestRegressor, AdaBoostRegressor, GradientBoostingRegressor, XGBRegressor]\n",
        "\n",
        "for algorithm in algorithms:\n",
        "  print(\"Before Over Sampling: \", machine_learning_regression(df_2, algorithm))\n",
        "  print(\"After Over Sampling: \", machine_learning_regression(df_2, algorithm))\n",
        "  print(\"\")"
      ]
    },
    {
      "cell_type": "code",
      "execution_count": 63,
      "metadata": {
        "id": "ss70TQgsrY-y"
      },
      "outputs": [],
      "source": [
        "# Among the above algorithms DecisionTreeRegressor, ExtraTreesRegressor, RandomForestRegressor performed well in scoring.\n",
        "\n",
        "# Let us use RandomForestRegressor for our model"
      ]
    },
    {
      "cell_type": "code",
      "execution_count": 64,
      "metadata": {
        "colab": {
          "base_uri": "https://localhost:8080/",
          "height": 264
        },
        "id": "1ohzYsvAubKY",
        "outputId": "e8f63701-2191-4c03-d042-83c23599cd0a"
      },
      "outputs": [
        {
          "name": "stderr",
          "output_type": "stream",
          "text": [
            "/usr/local/lib/python3.10/dist-packages/joblib/externals/loky/process_executor.py:752: UserWarning: A worker stopped while some jobs were given to the executor. This can be caused by a too short worker timeout or by a memory leak.\n",
            "  warnings.warn(\n"
          ]
        },
        {
          "data": {
            "text/html": [
              "<style>#sk-container-id-2 {color: black;background-color: white;}#sk-container-id-2 pre{padding: 0;}#sk-container-id-2 div.sk-toggleable {background-color: white;}#sk-container-id-2 label.sk-toggleable__label {cursor: pointer;display: block;width: 100%;margin-bottom: 0;padding: 0.3em;box-sizing: border-box;text-align: center;}#sk-container-id-2 label.sk-toggleable__label-arrow:before {content: \"▸\";float: left;margin-right: 0.25em;color: #696969;}#sk-container-id-2 label.sk-toggleable__label-arrow:hover:before {color: black;}#sk-container-id-2 div.sk-estimator:hover label.sk-toggleable__label-arrow:before {color: black;}#sk-container-id-2 div.sk-toggleable__content {max-height: 0;max-width: 0;overflow: hidden;text-align: left;background-color: #f0f8ff;}#sk-container-id-2 div.sk-toggleable__content pre {margin: 0.2em;color: black;border-radius: 0.25em;background-color: #f0f8ff;}#sk-container-id-2 input.sk-toggleable__control:checked~div.sk-toggleable__content {max-height: 200px;max-width: 100%;overflow: auto;}#sk-container-id-2 input.sk-toggleable__control:checked~label.sk-toggleable__label-arrow:before {content: \"▾\";}#sk-container-id-2 div.sk-estimator input.sk-toggleable__control:checked~label.sk-toggleable__label {background-color: #d4ebff;}#sk-container-id-2 div.sk-label input.sk-toggleable__control:checked~label.sk-toggleable__label {background-color: #d4ebff;}#sk-container-id-2 input.sk-hidden--visually {border: 0;clip: rect(1px 1px 1px 1px);clip: rect(1px, 1px, 1px, 1px);height: 1px;margin: -1px;overflow: hidden;padding: 0;position: absolute;width: 1px;}#sk-container-id-2 div.sk-estimator {font-family: monospace;background-color: #f0f8ff;border: 1px dotted black;border-radius: 0.25em;box-sizing: border-box;margin-bottom: 0.5em;}#sk-container-id-2 div.sk-estimator:hover {background-color: #d4ebff;}#sk-container-id-2 div.sk-parallel-item::after {content: \"\";width: 100%;border-bottom: 1px solid gray;flex-grow: 1;}#sk-container-id-2 div.sk-label:hover label.sk-toggleable__label {background-color: #d4ebff;}#sk-container-id-2 div.sk-serial::before {content: \"\";position: absolute;border-left: 1px solid gray;box-sizing: border-box;top: 0;bottom: 0;left: 50%;z-index: 0;}#sk-container-id-2 div.sk-serial {display: flex;flex-direction: column;align-items: center;background-color: white;padding-right: 0.2em;padding-left: 0.2em;position: relative;}#sk-container-id-2 div.sk-item {position: relative;z-index: 1;}#sk-container-id-2 div.sk-parallel {display: flex;align-items: stretch;justify-content: center;background-color: white;position: relative;}#sk-container-id-2 div.sk-item::before, #sk-container-id-2 div.sk-parallel-item::before {content: \"\";position: absolute;border-left: 1px solid gray;box-sizing: border-box;top: 0;bottom: 0;left: 50%;z-index: -1;}#sk-container-id-2 div.sk-parallel-item {display: flex;flex-direction: column;z-index: 1;position: relative;background-color: white;}#sk-container-id-2 div.sk-parallel-item:first-child::after {align-self: flex-end;width: 50%;}#sk-container-id-2 div.sk-parallel-item:last-child::after {align-self: flex-start;width: 50%;}#sk-container-id-2 div.sk-parallel-item:only-child::after {width: 0;}#sk-container-id-2 div.sk-dashed-wrapped {border: 1px dashed gray;margin: 0 0.4em 0.5em 0.4em;box-sizing: border-box;padding-bottom: 0.4em;background-color: white;}#sk-container-id-2 div.sk-label label {font-family: monospace;font-weight: bold;display: inline-block;line-height: 1.2em;}#sk-container-id-2 div.sk-label-container {text-align: center;}#sk-container-id-2 div.sk-container {/* jupyter's `normalize.less` sets `[hidden] { display: none; }` but bootstrap.min.css set `[hidden] { display: none !important; }` so we also need the `!important` here to be able to override the default hidden behavior on the sphinx rendered scikit-learn.org. See: https://github.com/scikit-learn/scikit-learn/issues/21755 */display: inline-block !important;position: relative;}#sk-container-id-2 div.sk-text-repr-fallback {display: none;}</style><div id=\"sk-container-id-2\" class=\"sk-top-container\"><div class=\"sk-text-repr-fallback\"><pre>GridSearchCV(cv=5, estimator=RandomForestRegressor(), n_jobs=-1,\n",
              "             param_grid={&#x27;max_depth&#x27;: [2, 5, 10, 20],\n",
              "                         &#x27;max_features&#x27;: [&#x27;sqrt&#x27;, &#x27;log2&#x27;, None],\n",
              "                         &#x27;min_samples_leaf&#x27;: [1, 2, 4],\n",
              "                         &#x27;min_samples_split&#x27;: [2, 5, 10]})</pre><b>In a Jupyter environment, please rerun this cell to show the HTML representation or trust the notebook. <br />On GitHub, the HTML representation is unable to render, please try loading this page with nbviewer.org.</b></div><div class=\"sk-container\" hidden><div class=\"sk-item sk-dashed-wrapped\"><div class=\"sk-label-container\"><div class=\"sk-label sk-toggleable\"><input class=\"sk-toggleable__control sk-hidden--visually\" id=\"sk-estimator-id-4\" type=\"checkbox\" ><label for=\"sk-estimator-id-4\" class=\"sk-toggleable__label sk-toggleable__label-arrow\">GridSearchCV</label><div class=\"sk-toggleable__content\"><pre>GridSearchCV(cv=5, estimator=RandomForestRegressor(), n_jobs=-1,\n",
              "             param_grid={&#x27;max_depth&#x27;: [2, 5, 10, 20],\n",
              "                         &#x27;max_features&#x27;: [&#x27;sqrt&#x27;, &#x27;log2&#x27;, None],\n",
              "                         &#x27;min_samples_leaf&#x27;: [1, 2, 4],\n",
              "                         &#x27;min_samples_split&#x27;: [2, 5, 10]})</pre></div></div></div><div class=\"sk-parallel\"><div class=\"sk-parallel-item\"><div class=\"sk-item\"><div class=\"sk-label-container\"><div class=\"sk-label sk-toggleable\"><input class=\"sk-toggleable__control sk-hidden--visually\" id=\"sk-estimator-id-5\" type=\"checkbox\" ><label for=\"sk-estimator-id-5\" class=\"sk-toggleable__label sk-toggleable__label-arrow\">estimator: RandomForestRegressor</label><div class=\"sk-toggleable__content\"><pre>RandomForestRegressor()</pre></div></div></div><div class=\"sk-serial\"><div class=\"sk-item\"><div class=\"sk-estimator sk-toggleable\"><input class=\"sk-toggleable__control sk-hidden--visually\" id=\"sk-estimator-id-6\" type=\"checkbox\" ><label for=\"sk-estimator-id-6\" class=\"sk-toggleable__label sk-toggleable__label-arrow\">RandomForestRegressor</label><div class=\"sk-toggleable__content\"><pre>RandomForestRegressor()</pre></div></div></div></div></div></div></div></div></div></div>"
            ],
            "text/plain": [
              "GridSearchCV(cv=5, estimator=RandomForestRegressor(), n_jobs=-1,\n",
              "             param_grid={'max_depth': [2, 5, 10, 20],\n",
              "                         'max_features': ['sqrt', 'log2', None],\n",
              "                         'min_samples_leaf': [1, 2, 4],\n",
              "                         'min_samples_split': [2, 5, 10]})"
            ]
          },
          "execution_count": 64,
          "metadata": {},
          "output_type": "execute_result"
        }
      ],
      "source": [
        "x = df_2.drop(columns=['selling_price'], axis=1)\n",
        "y = df_2['selling_price']\n",
        "x_train, x_test, y_train, y_test = train_test_split(x,y,test_size=0.2,random_state=42)\n",
        "\n",
        "param_grid_r = {'max_depth'      : [2, 5, 10, 20],\n",
        "              'min_samples_split': [2, 5, 10],\n",
        "              'min_samples_leaf' : [1, 2, 4],\n",
        "              'max_features'     : ['sqrt', 'log2', None]}\n",
        "\n",
        "grid_search_r = GridSearchCV(estimator=RandomForestRegressor(), param_grid=param_grid_r, cv=5, n_jobs=-1)\n",
        "grid_search_r.fit(x_train, y_train)"
      ]
    },
    {
      "cell_type": "code",
      "execution_count": 67,
      "metadata": {
        "colab": {
          "base_uri": "https://localhost:8080/"
        },
        "id": "gZjU75m5vhUh",
        "outputId": "1cc0ff41-dca7-44ac-8a79-19e92bd7ed01"
      },
      "outputs": [
        {
          "data": {
            "text/plain": [
              "({'max_depth': 20,\n",
              "  'max_features': None,\n",
              "  'min_samples_leaf': 1,\n",
              "  'min_samples_split': 2},\n",
              " 0.9568369727508379)"
            ]
          },
          "execution_count": 67,
          "metadata": {},
          "output_type": "execute_result"
        }
      ],
      "source": [
        "# best parameters for hypertuning the random forest algorithm for better accuracy in unseen data\n",
        "grid_search_r.best_params_,grid_search_r.best_score_"
      ]
    },
    {
      "cell_type": "code",
      "execution_count": 69,
      "metadata": {
        "colab": {
          "base_uri": "https://localhost:8080/"
        },
        "id": "GtozI0suvoY0",
        "outputId": "aae3b450-0478-4bd4-fe39-898333f76664"
      },
      "outputs": [
        {
          "data": {
            "text/plain": [
              "(0.9885177512635879, 0.9596168781725295)"
            ]
          },
          "execution_count": 69,
          "metadata": {},
          "output_type": "execute_result"
        }
      ],
      "source": [
        "# pass the parameters and check the accuracy for both training and testing & overfitting\n",
        "\n",
        "x = df_2.drop(columns=['selling_price'], axis=1)\n",
        "y = df_2['selling_price']\n",
        "x_train, x_test, y_train, y_test = train_test_split(x,y,test_size=0.2,random_state=42)\n",
        "\n",
        "model = RandomForestRegressor(max_depth=20, max_features=None, min_samples_leaf=1, min_samples_split=2).fit(x_train, y_train)\n",
        "y_pred_train = model.predict(x_train)\n",
        "y_pred_test = model.predict(x_test)\n",
        "\n",
        "r2_train = r2_score(y_train, y_pred_train)\n",
        "r2_test = r2_score(y_test, y_pred_test)\n",
        "r2_train, r2_test"
      ]
    },
    {
      "cell_type": "code",
      "execution_count": 70,
      "metadata": {
        "id": "aN6ymF2uwu4k"
      },
      "outputs": [],
      "source": [
        "# before hypertuning = 'algorithm': 'RandomForestRegressor', 'R2_train': 0.9940176821065443, 'R2_test': 0.9572742394942817\n",
        "\n",
        "# compare before and after hypertuning, reduced the overfitting in training"
      ]
    },
    {
      "cell_type": "code",
      "execution_count": 71,
      "metadata": {
        "colab": {
          "base_uri": "https://localhost:8080/"
        },
        "id": "Iz0XHucYwzoY",
        "outputId": "38c6cadf-1146-409d-e95f-61d82705dc41"
      },
      "outputs": [
        {
          "data": {
            "text/plain": [
              "{'R2': 0.9595290654386869,\n",
              " 'Mean Absolute Error': 0.03038337117902497,\n",
              " 'Mean Squared Error': 0.0022966270228644676,\n",
              " 'Root Mean Squared Error': 0.047923136613377756}"
            ]
          },
          "execution_count": 71,
          "metadata": {},
          "output_type": "execute_result"
        }
      ],
      "source": [
        "# predict the selling price with hypertuning parameters and calculate the accuracy using metrics\n",
        "\n",
        "x = df_2.drop(columns=['selling_price'], axis=1)\n",
        "y = df_2['selling_price']\n",
        "x_train, x_test, y_train, y_test = train_test_split(x,y,test_size=0.2,random_state=42)\n",
        "\n",
        "model = RandomForestRegressor(max_depth=20, max_features=None, min_samples_leaf=1, min_samples_split=2).fit(x_train, y_train)\n",
        "y_pred = model.predict(x_test)\n",
        "\n",
        "mse = mean_squared_error(y_test, y_pred)\n",
        "rmse = np.sqrt(mse)\n",
        "r2 = r2_score(y_test, y_pred)\n",
        "mae = mean_absolute_error(y_test, y_pred)\n",
        "\n",
        "metrics_r = {'R2': r2,\n",
        "           'Mean Absolute Error': mae,\n",
        "           'Mean Squared Error': mse,\n",
        "           'Root Mean Squared Error': rmse}\n",
        "\n",
        "metrics_r"
      ]
    },
    {
      "cell_type": "code",
      "execution_count": 75,
      "metadata": {
        "colab": {
          "base_uri": "https://localhost:8080/"
        },
        "id": "4bEfQ22mwzaV",
        "outputId": "dee8acc7-83a4-4104-a26e-eb83087c74b9"
      },
      "outputs": [
        {
          "data": {
            "text/plain": [
              "6.815471626647527"
            ]
          },
          "execution_count": 75,
          "metadata": {},
          "output_type": "execute_result"
        }
      ],
      "source": [
        "# manually passed the user input and predict the selling price\n",
        "\n",
        "user_data = np.array([[3.16, 30272155, 28, 1, 41, 1.25, 1090, 18.92, False, False, False, True, False, False, False, 19, 4, 2021, 1, 5, 2021]])\n",
        "y_predict = model.predict(user_data)\n",
        "y_predict[0]"
      ]
    },
    {
      "cell_type": "code",
      "execution_count": 79,
      "metadata": {
        "colab": {
          "base_uri": "https://localhost:8080/",
          "height": 36
        },
        "id": "Qbbjrv5kxjKI",
        "outputId": "25be53a3-685a-4254-f450-99056ab94fa6"
      },
      "outputs": [
        {
          "data": {
            "application/vnd.google.colaboratory.intrinsic+json": {
              "type": "string"
            },
            "text/plain": [
              "'911.85'"
            ]
          },
          "execution_count": 79,
          "metadata": {},
          "output_type": "execute_result"
        }
      ],
      "source": [
        "# using Inverse Log Transformation to convert the value to original scale of the data (exp)\n",
        "f\"{np.exp(y_predict[0]):.2f}\""
      ]
    },
    {
      "cell_type": "code",
      "execution_count": 80,
      "metadata": {
        "colab": {
          "base_uri": "https://localhost:8080/"
        },
        "id": "6xJgmDGfylq1",
        "outputId": "97efd775-3ed7-46b9-b24e-e97f9afba2b2"
      },
      "outputs": [
        {
          "name": "stdout",
          "output_type": "stream",
          "text": [
            "1.2.2\n"
          ]
        }
      ],
      "source": [
        "import sklearn\n",
        "print(sklearn.__version__)"
      ]
    },
    {
      "cell_type": "code",
      "execution_count": 81,
      "metadata": {
        "id": "cKWJKvUXyne2"
      },
      "outputs": [],
      "source": [
        "# Note:\n",
        "# google colab sklearn version is 1.2.2\n",
        "# so if you save your model in pickle in colab and download to your system.\n",
        "# after you load the model in your system for prediction measns ----> your system have same 1.2.2 version of sklearn\n",
        "# otherwise it cannot load in your system and it shows error"
      ]
    },
    {
      "cell_type": "code",
      "execution_count": 82,
      "metadata": {
        "id": "KajUGfuvypf5"
      },
      "outputs": [],
      "source": [
        "# save the regression model by using pickle\n",
        "\n",
        "with open('Regression_Model.pkl', 'wb') as f:\n",
        "    pickle.dump(model, f)"
      ]
    },
    {
      "cell_type": "code",
      "execution_count": null,
      "metadata": {
        "id": "X10k09QFy5c4"
      },
      "outputs": [],
      "source": [
        "# Now successfully saved our model in 'Regression_Model.pkl' pickle file.\n",
        "# Hereafter we can load and use this pickle file to predict the selling price. "
      ]
    },
    {
      "cell_type": "code",
      "execution_count": 83,
      "metadata": {
        "colab": {
          "base_uri": "https://localhost:8080/"
        },
        "id": "ihjxgYDky9aM",
        "outputId": "9c035e74-bce1-43d9-c332-b37d19da5fcf"
      },
      "outputs": [
        {
          "data": {
            "text/plain": [
              "970.4680340986652"
            ]
          },
          "execution_count": 83,
          "metadata": {},
          "output_type": "execute_result"
        }
      ],
      "source": [
        "# load the pickle model to predict selling price\n",
        "\n",
        "with open('/content/Regression_Model.pkl', 'rb') as f:\n",
        "    model = pickle.load(f)\n",
        "\n",
        "y_pred = model.predict(np.array([[6.19, 30202938, 25, 1, 42, 0.41, 1250, 21.24, False, False, False, False, False, True, False, 31, 4, 2021, 1, 4, 2021]]))\n",
        "np.exp(y_pred[0])"
      ]
    }
  ],
  "metadata": {
    "accelerator": "TPU",
    "colab": {
      "gpuType": "V28",
      "provenance": []
    },
    "kernelspec": {
      "display_name": "Python 3",
      "name": "python3"
    },
    "language_info": {
      "name": "python"
    }
  },
  "nbformat": 4,
  "nbformat_minor": 0
}
